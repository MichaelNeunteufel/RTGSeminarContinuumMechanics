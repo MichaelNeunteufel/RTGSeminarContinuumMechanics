{
 "cells": [
  {
   "cell_type": "markdown",
   "id": "91f74bc3",
   "metadata": {},
   "source": [
    "# Locking of Timoshenko beam\n",
    "We investigate the shear locking behavior of the Timoshenko beam when the thickness tends to zero, $t\\to0$."
   ]
  },
  {
   "cell_type": "code",
   "execution_count": null,
   "id": "25dcc295",
   "metadata": {},
   "outputs": [],
   "source": [
    "from ngsolve import *\n",
    "from ngsolve.meshes import Make1DMesh\n",
    "from ngsolve.webgui import Draw\n",
    "from sympy import symbols, solve, lambdify\n",
    "\n",
    "# use material parameters such that equations simplify\n",
    "mu, lam = 0.5, 0  # Lame parameter\n",
    "nu = lam/(2*(lam+mu)) # Possion ratio (=0)\n",
    "E = mu*(3*lam+2*mu)/(lam+mu) # Young's modulus (=1)\n",
    "k = 5/6           # shear correction factor\n",
    "G = E/(2*(1+nu))  # shearing modulus\n",
    "alpha = 1/(12*k*G)"
   ]
  },
  {
   "cell_type": "markdown",
   "id": "dbd50296",
   "metadata": {},
   "source": [
    "Compute the exact solution (see the previous [notebook](timoshenko_beam_bc.ipynb)) for a volume (body) force or shear force."
   ]
  },
  {
   "cell_type": "code",
   "execution_count": null,
   "id": "9286e5cd",
   "metadata": {},
   "outputs": [],
   "source": [
    "def ComputeExactSolution(t=0.01, q=-0.1, shear_force=True):\n",
    "    X, C1, C2, C3, C4 = symbols(\"x C1 C2 C3 C4\")\n",
    "    if shear_force:\n",
    "        w_ex = -C1/6*X**3-C2/2*X**2 + C3*X+C4\n",
    "        w_diff_ex = -C1/2*X**2-C2*X + C3\n",
    "        beta_ex = -C1/2*X**2-C2*X-alpha*t**2*C1+C3\n",
    "        beta_diff_ex = -C1*X-C2\n",
    "\n",
    "        solve_bc = solve((w_ex.subs(X,0), (k*G/t**2*(w_diff_ex-beta_ex)-q).subs(X,1), beta_ex.subs(X,0), beta_diff_ex.subs(X,1)), C1, C2, C3, C4)\n",
    "    else: # uniform volume force\n",
    "        w_ex = q/2*X**4-C1/6*X**3-0.5*(C2+alpha*t**2*q*12)*X**2+C3*X+C4\n",
    "        w_diff_ex = 2*q*X**3-C1/2*X**2-(C2+alpha*t**2*q*12)*X+C3\n",
    "        beta_ex = 2*q*X**3-C1/2*X**2-C2*X-alpha*t**2*C1+C3\n",
    "        beta_diff_ex = q*12/2*X**2-C1*X-C2\n",
    "        solve_bc = solve((w_ex.subs(X,0), (w_diff_ex-beta_ex).subs(X,1), beta_ex.subs(X,0), beta_diff_ex.subs(X,1)), C1, C2, C3, C4)\n",
    "    c1,c2,c3,c4 = solve_bc[C1], solve_bc[C2], solve_bc[C3], solve_bc[C4]\n",
    "\n",
    "    # generate CoefficientFunctions\n",
    "    w_ex_func = lambdify((X), w_ex.subs([(C1,c1),(C2,c2),(C3,c3),(C4,c4)]))\n",
    "    cf_w_ex = w_ex_func(x)\n",
    "    beta_ex_func = lambdify((X), beta_ex.subs([(C1,c1),(C2,c2),(C3,c3),(C4,c4)]))\n",
    "    cf_beta_ex = beta_ex_func(x)\n",
    "    \n",
    "    return (cf_w_ex, cf_beta_ex)"
   ]
  },
  {
   "cell_type": "code",
   "execution_count": null,
   "id": "b0c774a4",
   "metadata": {},
   "outputs": [],
   "source": [
    "cf_w_ex, cf_beta_ex = ComputeExactSolution(t=0.01, q=-0.1, shear_force=True)\n",
    "mesh = Make1DMesh(10)\n",
    "Draw(cf_w_ex, mesh, deformation=CF( (0, cf_w_ex, 0) ));"
   ]
  },
  {
   "cell_type": "markdown",
   "id": "395fc27b",
   "metadata": {},
   "source": [
    "Solve Timoshenko beam using Lagrange finite elements for the vertical deflection and (linearized) rotations for a volume or shear force.\n",
    "\n",
    "You can try out to use reduced integration or increasing the order of the deflection space to avoid shear locking when using linear polynomial order (order=1)."
   ]
  },
  {
   "cell_type": "code",
   "execution_count": null,
   "id": "8da80b2a",
   "metadata": {},
   "outputs": [],
   "source": [
    "def SolveTB(order, mesh, t, q, shear_force=True, w_ex=None, beta_ex=None,\\\n",
    "            reduced_integration=False, increase_W_space=False, draw=False):\n",
    "    fes = H1(mesh, order=order+increase_W_space, dirichlet=\"left\")*H1(mesh, order=order, dirichlet=\"left\") \n",
    "    (w,beta),(dw,dbeta) = fes.TnT()\n",
    "    \n",
    "    a = BilinearForm(fes, symmetric=True)\n",
    "    a += 1/12*grad(beta)*grad(dbeta)*dx \\\n",
    "        + k*G/t**2*(grad(w)-beta)*(grad(dw)-dbeta)*dx(bonus_intorder=-reduced_integration)\n",
    "    \n",
    "    f = LinearForm(fes)\n",
    "    if shear_force:\n",
    "        f += q*dw*ds(\"right\")\n",
    "    else:\n",
    "        f += q*dw*dx\n",
    "        \n",
    "    gfsol = GridFunction(fes)\n",
    "    \n",
    "    a.Assemble()\n",
    "    f.Assemble()\n",
    "    gfsol.vec.data = a.mat.Inverse(fes.FreeDofs(),inverse=\"sparsecholesky\")*f.vec\n",
    "    gfw, gfbeta = gfsol.components\n",
    "    \n",
    "    if draw:\n",
    "        Draw(gfw, mesh, deformation=CF((0, gfw, 0)))\n",
    "        Draw(gfbeta, mesh, deformation=CF((0, gfbeta, 0)))\n",
    "    \n",
    "    # compute relative errors if exact solution is given\n",
    "    errW = 1\n",
    "    errbeta = 1\n",
    "    if w_ex:\n",
    "        errW = sqrt(Integrate((gfw-cf_w_ex)**2+(Grad(gfw)-cf_w_ex.Diff(x))**2,mesh))/sqrt(Integrate(cf_w_ex**2+cf_w_ex.Diff(x)**2,mesh))\n",
    "    if beta_ex:\n",
    "        errbeta = sqrt(Integrate((gfbeta-cf_beta_ex)**2+(Grad(gfbeta)-cf_beta_ex.Diff(x))**2,mesh))/sqrt(Integrate(cf_beta_ex**2+cf_beta_ex.Diff(x)**2,mesh))\n",
    "\n",
    "    return (errW, errbeta)"
   ]
  },
  {
   "cell_type": "markdown",
   "id": "8c5f4043",
   "metadata": {},
   "source": [
    "Compute the error for a sequence of meshes for different thicknesses."
   ]
  },
  {
   "cell_type": "code",
   "execution_count": null,
   "id": "fbaa00f6",
   "metadata": {
    "scrolled": false
   },
   "outputs": [],
   "source": [
    "# consider shear force or volume force\n",
    "shear_force = False\n",
    "\n",
    "# Options to play with:\n",
    "# 1) use reduced integration for the shear term\n",
    "reduced_integration = False\n",
    "# 2) increase polynomial degree of deflection space\n",
    "increase_W_space = False\n",
    "\n",
    "# consider different thicknesses\n",
    "ts = [1,1e-1,1e-2,1e-3]\n",
    "# consider different mesh sizes (i.e., 1/hs mesh elements)\n",
    "hs = [0.5**i for i in range(1,11)]\n",
    "\n",
    "# save errors\n",
    "errW = []\n",
    "errbeta = []\n",
    "\n",
    "with TaskManager():\n",
    "    for t in ts:\n",
    "        cf_w_ex, cf_beta_ex = ComputeExactSolution(t=t, q=-0.1, shear_force=shear_force)\n",
    "        #Draw(cf_w_ex, mesh, deformation=CF( (0,cf_w_ex,0) ))\n",
    "        errW.append([])\n",
    "        errbeta.append([])\n",
    "        for h in hs:\n",
    "            mesh=Make1DMesh(int(1/h))\n",
    "            errw,errb = SolveTB(order=1, mesh=mesh, t=t, q=-0.1, shear_force=shear_force, \\\n",
    "                                w_ex=cf_w_ex, beta_ex=cf_beta_ex,\\\n",
    "                                reduced_integration=reduced_integration,\\\n",
    "                                increase_W_space=increase_W_space)\n",
    "            errW[-1].append(errw)\n",
    "            errbeta[-1].append(errb)"
   ]
  },
  {
   "cell_type": "markdown",
   "id": "584d1153",
   "metadata": {},
   "source": [
    "When we plot the error, we see that without additional treatment shear locking is present. Note that as soon as $h\\approx t$ the so-called pre-asymptotic regime ends and convergence starts. Using reduced integration for the shear term or increasing the polynomial order for the displacement space cures locking."
   ]
  },
  {
   "cell_type": "code",
   "execution_count": null,
   "id": "33a9a747",
   "metadata": {},
   "outputs": [],
   "source": [
    "import matplotlib.pyplot as plt\n",
    "plt.yscale('log')\n",
    "plt.xscale('log')\n",
    "plt.xlabel(\"h\")\n",
    "plt.ylabel(\"relative err\")\n",
    "for i in range(len(ts)):\n",
    "    plt.plot(hs, errW[i], \"*-\", label=\"$\\|w-w_{\\mathrm{ex}}\\|$ $t=\"+str(ts[i])+\"$\")\n",
    "    plt.plot(hs, errbeta[i], \"*-\", label=\"$\\|b-b_{\\mathrm{ex}}\\|$ $t=\"+str(ts[i])+\"$\")\n",
    "    \n",
    "plt.plot(hs, hs, '-' , color=\"k\", label=\"$\\mathcal{O}(h)$\")\n",
    "if increase_W_space:\n",
    "    plt.plot(hs, [h**2 for h in hs], '-' , color=\"k\", label=\"$\\mathcal{O}(h^2)$\")\n",
    "plt.legend()\n",
    "plt.show()"
   ]
  },
  {
   "cell_type": "code",
   "execution_count": null,
   "id": "daff0760",
   "metadata": {},
   "outputs": [],
   "source": []
  }
 ],
 "metadata": {
  "kernelspec": {
   "display_name": "Python 3",
   "language": "python",
   "name": "python3"
  },
  "language_info": {
   "codemirror_mode": {
    "name": "ipython",
    "version": 3
   },
   "file_extension": ".py",
   "mimetype": "text/x-python",
   "name": "python",
   "nbconvert_exporter": "python",
   "pygments_lexer": "ipython3",
   "version": "3.13.1"
  }
 },
 "nbformat": 4,
 "nbformat_minor": 5
}
