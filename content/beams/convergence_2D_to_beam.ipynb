{
 "cells": [
  {
   "cell_type": "markdown",
   "id": "2843f347",
   "metadata": {},
   "source": [
    "# Convergence 2D elasticity to beam\n",
    "We investigate numerically how good the Timoshenko beam and Bernoulli beam model approximate the full 2D elasticity problem for thickness $t\\to0$."
   ]
  },
  {
   "cell_type": "code",
   "execution_count": null,
   "id": "9d51ed70",
   "metadata": {},
   "outputs": [],
   "source": [
    "from ngsolve import *\n",
    "from ngsolve.meshes import Make1DMesh, MakeStructured2DMesh\n",
    "from ngsolve.webgui import Draw"
   ]
  },
  {
   "cell_type": "markdown",
   "id": "689ca1c2",
   "metadata": {},
   "source": [
    "We choose material parameters such that the elasticity tensor $\\mathbb{C}$ becomes the identity. We consider a beam of length $1$ and thickness $t$, which is fixed on the left and apply a shear force at the right boundary."
   ]
  },
  {
   "cell_type": "code",
   "execution_count": null,
   "id": "79652b59",
   "metadata": {},
   "outputs": [],
   "source": [
    "# use material parameters such that equations simplify\n",
    "mu, lam = 0.5, 0  # Lame parameter\n",
    "nu = lam/(2*(lam+mu)) # Possion ratio (=0)\n",
    "E = mu*(3*lam+2*mu)/(lam+mu) # Young's modulus (=1)\n",
    "k = 5/6           # shear correction factor\n",
    "G = E/(2*(1+nu))  # shearing modulus\n",
    "force = CF( (0,-0.1) )\n",
    "\n",
    "mesh = MakeStructured2DMesh(nx=10, ny=1, mapping=lambda x,y : (x,0.1*y))\n",
    "Draw(mesh);"
   ]
  },
  {
   "cell_type": "markdown",
   "id": "66189437",
   "metadata": {},
   "source": [
    "Solve the 2D elasticity problem with the TDNNS method, which does not suffer from shear locking."
   ]
  },
  {
   "cell_type": "code",
   "execution_count": null,
   "id": "b8756eb5",
   "metadata": {},
   "outputs": [],
   "source": [
    "def SolveTDNNS(order, mesh, t, draw=False):\n",
    "    fesU = HCurl(mesh, order=order, dirichlet=\"left\")\n",
    "    fesS = HDivDiv(mesh, order=order,dirichlet=\"top|bottom|right\")\n",
    "    X = fesS*fesU\n",
    "    (sigma,u),(tau,v) = X.TnT()\n",
    "            \n",
    "    n = specialcf.normal(2)  \n",
    "    def tang(u): return u-(u*n)*n\n",
    "            \n",
    "    a = BilinearForm(X, symmetric=True, symmetric_storage=True)\n",
    "    a += (InnerProduct(sigma,tau) + div(sigma)*v + div(tau)*u -1e-10*u*v)*dx\n",
    "    a += (-(sigma*n)*tang(v) - (tau*n)*tang(u) )*dx(element_boundary=True)\n",
    "    a.Assemble()\n",
    "            \n",
    "    f = LinearForm(X)\n",
    "    f += -t**2*force*v.Trace()*ds(\"right\")\n",
    "    f.Assemble()\n",
    "            \n",
    "    gfsol = GridFunction(X)\n",
    "    _, gfu = gfsol.components\n",
    "    \n",
    "    gfsol.vec.data = a.mat.Inverse(X.FreeDofs(), inverse=\"sparsecholesky\")*f.vec\n",
    "    \n",
    "    if draw:\n",
    "        Draw(gfu, mesh, \"u\", deformation=True)\n",
    "    \n",
    "    return gfu\n",
    "t=1e-2\n",
    "mesh2D = MakeStructured2DMesh(nx=10,ny=1, mapping=lambda x,y : (x,t*(y-0.5)))\n",
    "gfuTDNNS = SolveTDNNS(4, t=t, mesh=mesh2D, draw=True)"
   ]
  },
  {
   "cell_type": "markdown",
   "id": "76b7cc95",
   "metadata": {},
   "source": [
    "Solve the Timoshenko beam and Euler-Bernoulli beam problem."
   ]
  },
  {
   "cell_type": "code",
   "execution_count": null,
   "id": "f6cb2a4a",
   "metadata": {},
   "outputs": [],
   "source": [
    "def SolveTB(order, mesh, t, reduced_integration=False, draw=False):\n",
    "    V = H1(mesh, order=order, dirichlet=\"left\")\n",
    "    fes = V*V    \n",
    "    (u,beta),(du,dbeta) = fes.TnT()\n",
    "    \n",
    "    a = BilinearForm(fes, symmetric=True)\n",
    "    a += 1/12*grad(beta)*grad(dbeta)*dx + k*G/t**2*(grad(u)-beta)*(grad(du)-dbeta)*dx(bonus_intorder=-reduced_integration)\n",
    "    \n",
    "    f = LinearForm(fes)\n",
    "    f += force[1]*du*ds(\"right\")\n",
    "    \n",
    "    gfsol = GridFunction(fes)\n",
    "    \n",
    "    a.Assemble()\n",
    "    f.Assemble()\n",
    "    gfsol.vec.data = a.mat.Inverse(fes.FreeDofs(), inverse=\"sparsecholesky\")*f.vec\n",
    "    gfu, gfbeta = gfsol.components\n",
    "    \n",
    "    if draw:\n",
    "        Draw(gfu, mesh, deformation=CF((0, gfu, 0)))\n",
    "    \n",
    "    return gfu, gfbeta\n",
    "\n",
    "mesh1D = Make1DMesh(20)\n",
    "\n",
    "gfuTB, gfbetaTB = SolveTB(order=3, mesh=mesh1D, t=t, draw=True)\n",
    "\n",
    "def SolveBB(order, mesh, draw=False):\n",
    "    fes = H1(mesh, order=order, dirichlet=\"left\")*H1(mesh, order=order, dirichlet=\"right\")\n",
    "    (u,sigma),(du,dsigma) = fes.TnT()\n",
    "    \n",
    "    a = BilinearForm(fes, symmetric=True)\n",
    "    a += (12*sigma*dsigma + grad(u)*grad(dsigma) + grad(du)*grad(sigma) -1e-10*u*du)*dx\n",
    "    \n",
    "    f = LinearForm(fes)\n",
    "    f += -force[1]*du*ds(\"right\")\n",
    "    \n",
    "    gfsol = GridFunction(fes)\n",
    "    \n",
    "    a.Assemble()\n",
    "    f.Assemble()\n",
    "    gfsol.vec.data = a.mat.Inverse(fes.FreeDofs(), inverse=\"sparsecholesky\")*f.vec\n",
    "\n",
    "    gfw, _ = gfsol.components\n",
    "    \n",
    "    if draw:\n",
    "        Draw(gfw, mesh, deformation=CF((0, gfw, 0)))\n",
    "    return gfw\n",
    "\n",
    "gfuBB = SolveBB(order=3, mesh=Make1DMesh(20), draw=True)"
   ]
  },
  {
   "cell_type": "markdown",
   "id": "14928838",
   "metadata": {},
   "source": [
    "Now we solve the 2D elasticity and Timoschenko beam problem for different thicknesses $t$ (the Bernoulli beam is independent of $t$ and gets thus only solved once) and compute the relative error of the beam models with respect to the 2D elasticity solution by comparing the vertical deflection at the midsurface at the right boundary."
   ]
  },
  {
   "cell_type": "code",
   "execution_count": null,
   "id": "fea71f22",
   "metadata": {},
   "outputs": [],
   "source": [
    "results = []\n",
    "gfwBB = SolveBB(order=1, mesh=Make1DMesh(200))\n",
    "gfuBB = CF( (-y*Grad(gfwBB), gfwBB) )\n",
    "\n",
    "with TaskManager():\n",
    "    for t in [10**(-i) for i in range(6)]:\n",
    "        mesh2D = MakeStructured2DMesh(nx=int(50),ny=1, mapping=lambda x,y : (x,t*(y-0.5)))\n",
    "        gfuTDNNS = SolveTDNNS(1,t=t,mesh=mesh2D)\n",
    "        l2TDNNS = sqrt(Integrate(gfuTDNNS*gfuTDNNS,mesh2D))\n",
    "        gfwTB, gfbetaTB = SolveTB(order=1, mesh=Make1DMesh(200), reduced_integration=True, t=t)\n",
    "        gfuTB = CF( (-y*gfbetaTB,gfwTB) )\n",
    "        results.append((t, sqrt(Integrate((gfuTDNNS-gfuTB)**2,mesh2D))/l2TDNNS, \\\n",
    "                  sqrt(Integrate((gfuTDNNS-gfuBB)**2,mesh2D))/l2TDNNS))"
   ]
  },
  {
   "cell_type": "code",
   "execution_count": null,
   "id": "03c9be3e",
   "metadata": {
    "scrolled": false
   },
   "outputs": [],
   "source": [
    "import matplotlib.pyplot as plt\n",
    "plt.yscale('log')\n",
    "plt.xscale('log')\n",
    "plt.xlabel(\"t\")\n",
    "plt.ylabel(\"relative err\")\n",
    "ts, errtb, errbb = zip(*results)\n",
    "plt.plot(ts, errtb, '*-', label=\"$|u_{\\mathrm{TB}}-u_{\\mathrm{2D}}|$\")\n",
    "plt.plot(ts, errbb, 'x-', label=\"$|u_{\\mathrm{BB}}-u_{\\mathrm{2D}}|$\")\n",
    "plt.plot(ts, [th for th in ts], '-' , color=\"k\", label=\"$O(t)$\")\n",
    "plt.plot(ts, [th**2 for th in ts], '-.' , color=\"k\", label=\"$O(t^2)$\")\n",
    "plt.legend()\n",
    "plt.show()"
   ]
  },
  {
   "cell_type": "markdown",
   "id": "04b18af6",
   "metadata": {},
   "source": [
    "We observe linear and quadratic convergence for the Euler-Bernoulli and Timoshenko beam, respectively. However, the 2D reference solution becomes unstable for extremely small thicknesses. Therefore, let's investigate the convergence of the Euler-Bernoulli beam to the Timoshenko beam instead."
   ]
  },
  {
   "cell_type": "code",
   "execution_count": null,
   "id": "ad021d98",
   "metadata": {},
   "outputs": [],
   "source": [
    "results2 = []\n",
    "mesh1d = Make1DMesh(100)\n",
    "gfwBB = SolveBB(order=2, mesh=mesh1d)\n",
    "l2bb = sqrt(Integrate(gfwBB**2,mesh1d))\n",
    "\n",
    "with TaskManager():\n",
    "    for t in [10**(-i) for i in range(6)]:\n",
    "        gfwTB, _ = SolveTB(order=2, mesh=mesh1d, t=t)\n",
    "        results2.append((t, sqrt(Integrate((gfwBB-gfwTB)**2,mesh1d))/l2bb))"
   ]
  },
  {
   "cell_type": "markdown",
   "id": "428b9f01",
   "metadata": {},
   "source": [
    "Again, one of the solutions becomes unstable (the Timoshenko beam because of the $1/t^2$ term). Thus, replace the numerical solution of the Timoshenko beam with its exact one."
   ]
  },
  {
   "cell_type": "code",
   "execution_count": null,
   "id": "8bc3fe32",
   "metadata": {},
   "outputs": [],
   "source": [
    "plt.yscale('log')\n",
    "plt.xscale('log')\n",
    "plt.xlabel(\"t\")\n",
    "plt.ylabel(\"relative err\")\n",
    "ts, errtb = zip(*results2)\n",
    "plt.plot(ts, errtb, '*-', label=\"$|u_{\\mathrm{TB}}-u_{\\mathrm{BB}}|$\")\n",
    "plt.plot(ts, [th**2 for th in ts], '-.' , color=\"k\", label=\"$O(t^2)$\")\n",
    "plt.legend()\n",
    "plt.show()"
   ]
  },
  {
   "cell_type": "code",
   "execution_count": null,
   "id": "561c5e53",
   "metadata": {},
   "outputs": [],
   "source": [
    "from sympy import symbols, solve, lambdify\n",
    "def ComputeExactSolutionTB(t=0.01, q=-0.1, shear_force=True):\n",
    "    alpha = 1/(12*k*G)\n",
    "    X, C1, C2, C3, C4 = symbols(\"x C1 C2 C3 C4\")\n",
    "    if shear_force:\n",
    "        w_ex = -C1/6*X**3-C2/2*X**2 + C3*X+C4\n",
    "        w_diff_ex = -C1/2*X**2-C2*X + C3\n",
    "        beta_ex = -C1/2*X**2-C2*X-alpha*t**2*C1+C3\n",
    "        beta_diff_ex = -C1*X-C2\n",
    "\n",
    "        solve_bc = solve((w_ex.subs(X,0), (k*G/t**2*(w_diff_ex-beta_ex)-q).subs(X,1), beta_ex.subs(X,0), beta_diff_ex.subs(X,1)), C1, C2, C3, C4)\n",
    "    else: # uniform volume force\n",
    "        w_ex = q/2*X**4-C1/6*X**3-0.5*(C2+alpha*t**2*q*12)*X**2+C3*X+C4\n",
    "        w_diff_ex = 2*q*X**3-C1/2*X**2-(C2+alpha*t**2*q*12)*X+C3\n",
    "        beta_ex = 2*q*X**3-C1/2*X**2-C2*X-alpha*t**2*C1+C3\n",
    "        beta_diff_ex = q*12/2*X**2-C1*X-C2\n",
    "        solve_bc = solve((w_ex.subs(X,0), (w_diff_ex-beta_ex).subs(X,1), beta_ex.subs(X,0), beta_diff_ex.subs(X,1)), C1, C2, C3, C4)\n",
    "    c1,c2,c3,c4 = solve_bc[C1], solve_bc[C2], solve_bc[C3], solve_bc[C4]\n",
    "\n",
    "    # generate CoefficientFunctions\n",
    "    w_ex_func = lambdify((X), w_ex.subs([(C1,c1),(C2,c2),(C3,c3),(C4,c4)]))\n",
    "    cf_w_ex = w_ex_func(x)\n",
    "    beta_ex_func = lambdify((X), beta_ex.subs([(C1,c1),(C2,c2),(C3,c3),(C4,c4)]))\n",
    "    cf_beta_ex = beta_ex_func(x)\n",
    "    \n",
    "    return (cf_w_ex, cf_beta_ex)"
   ]
  },
  {
   "cell_type": "code",
   "execution_count": null,
   "id": "144f3e08",
   "metadata": {},
   "outputs": [],
   "source": [
    "results3 = []\n",
    "mesh1d = Make1DMesh(100)\n",
    "gfwBB = SolveBB(order=2, mesh=mesh1d)\n",
    "l2bb = sqrt(Integrate(gfwBB**2,mesh1d))\n",
    "\n",
    "with TaskManager():\n",
    "    for t in [10**(-i) for i in range(6)]:\n",
    "        exTB, _ = ComputeExactSolutionTB(t=t, q=-0.1, shear_force=True)\n",
    "        results3.append((t, sqrt(Integrate((gfwBB-exTB)**2,mesh1d))/l2bb))"
   ]
  },
  {
   "cell_type": "markdown",
   "id": "5e822258",
   "metadata": {},
   "source": [
    "Now we obtain a nice quadratic convergence up to the discretization error of the Euler-Bernoulli beam (use finer meshes or higher polynomial order to increase the accuracy)."
   ]
  },
  {
   "cell_type": "code",
   "execution_count": null,
   "id": "5280137a",
   "metadata": {},
   "outputs": [],
   "source": [
    "plt.yscale('log')\n",
    "plt.xscale('log')\n",
    "plt.xlabel(\"t\")\n",
    "plt.ylabel(\"relative err\")\n",
    "ts, errtb = zip(*results3)\n",
    "plt.plot(ts, errtb, '*-', label=\"$|u_{\\mathrm{TB}}-u_{\\mathrm{BB}}|$\")\n",
    "plt.plot(ts, [th**2 for th in ts], '-.' , color=\"k\", label=\"$O(t^2)$\")\n",
    "plt.legend()\n",
    "plt.show()"
   ]
  },
  {
   "cell_type": "code",
   "execution_count": null,
   "id": "3784de7a",
   "metadata": {},
   "outputs": [],
   "source": []
  }
 ],
 "metadata": {
  "kernelspec": {
   "display_name": "Python 3",
   "language": "python",
   "name": "python3"
  },
  "language_info": {
   "codemirror_mode": {
    "name": "ipython",
    "version": 3
   },
   "file_extension": ".py",
   "mimetype": "text/x-python",
   "name": "python",
   "nbconvert_exporter": "python",
   "pygments_lexer": "ipython3",
   "version": "3.13.1"
  }
 },
 "nbformat": 4,
 "nbformat_minor": 5
}
