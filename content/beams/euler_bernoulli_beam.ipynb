{
 "cells": [
  {
   "cell_type": "markdown",
   "id": "8333f743",
   "metadata": {},
   "source": [
    "# Euler-Bernoulli beam\n",
    "\n",
    "We discuss the solutions of the Euler-Bernoulli beam in case of a uniformly distributed body force and a shear force at the end. It is clamped on the right side. Ignoring material parameters, the Euler-Bernoulli equation for a given body force is the fourth-order problem\n",
    "\\begin{align*}\n",
    "\\frac{1}{12}w^{\\prime\\prime\\prime\\prime} = f,\\qquad + \\text{b.c.},\n",
    "\\end{align*}\n",
    "where $w$ is the vertical deflection. By integration the exact solution of the Euler-Bernoulli beam is of the form\n",
    "\\begin{align*}\n",
    "w(x) = \\int\\int\\int\\int \\frac{f}{12}\\,dx\\,dx\\,dx\\,dx +\\frac{c_1}{6}x^3+\\frac{c_2}{2}x^2+c_3x+c_4 = \\frac{q}{2}x^4+\\frac{c_1}{6}x^3+\\frac{c_2}{2}x^2+c_3x+c_4\n",
    "\\end{align*}\n",
    "for $f=q=\\mathrm{const}$. The constants are determined by the boundary conditions. For a clamped boundary we have the conditions\n",
    "\\begin{align*}\n",
    "w=w^{\\prime}=0.\n",
    "\\end{align*}\n",
    "For a free-boundary we have\n",
    "\\begin{align*}\n",
    "w^{\\prime\\prime}=w^{\\prime\\prime\\prime}=0.\n",
    "\\end{align*}\n",
    "Note that $\\sigma=w^{\\prime\\prime}$ is the bending moment and with $\\frac{1}{12} w^{\\prime\\prime\\prime}=q$ a shear force can be implied. Therefore, in case of a shear force we have $f=0$ as body force and thus,\n",
    "\\begin{align*}\n",
    "w(x) =\\frac{c_1}{6}x^3+\\frac{c_2}{2}x^2+c_3x+c_4\n",
    "\\end{align*}\n",
    "and $\\frac{1}{12} w^{\\prime\\prime\\prime}=q$ as a boundary condition."
   ]
  },
  {
   "cell_type": "code",
   "execution_count": null,
   "id": "46900892",
   "metadata": {},
   "outputs": [],
   "source": [
    "from ngsolve import *\n",
    "from ngsolve.meshes import Make1DMesh\n",
    "from ngsolve.webgui import Draw\n",
    "from sympy import symbols, solve, diff, lambdify\n",
    "\n",
    "# use material parameters such that equations simplify\n",
    "mu, lam = 0.5, 0  # Lame parameter\n",
    "nu = lam/(2*(lam+mu)) # Possion ratio (=0)\n",
    "E = mu*(3*lam+2*mu)/(lam+mu) # Young's modulus (=1)"
   ]
  },
  {
   "cell_type": "markdown",
   "id": "9e37811f",
   "metadata": {},
   "source": [
    "## Uniform distributed load\n",
    "\n",
    "First, we consider a uniformly distributed body force (gravity)."
   ]
  },
  {
   "cell_type": "code",
   "execution_count": null,
   "id": "52645a5c",
   "metadata": {},
   "outputs": [],
   "source": [
    "# uniform distributed load\n",
    "q = -0.1\n",
    "\n",
    "X, C1, C2, C3, C4 = symbols(\"x C1 C2 C3 C4\")\n",
    "w_ex = q/2*X**4+C1/6*X**3+C2/2*X**2+C3*X+C4\n",
    "w_diff_ex = 2*q*X**3+C1/2*X**2+C2*X+C3\n",
    "w_ddiff_ex = 6*q*X**2+C1*X+C2\n",
    "\n",
    "\n",
    "# solve for boundary conditions\n",
    "solve_bc = solve((w_ex.subs(X,0), w_diff_ex.subs(X,0), w_ddiff_ex.subs(X,1), \\\n",
    "                diff(w_ddiff_ex,X).subs(X,1)), C1, C2, C3, C4)\n",
    "c1,c2,c3,c4 = solve_bc[C1], solve_bc[C2], solve_bc[C3], solve_bc[C4]\n",
    "\n",
    "# generate CoefficientFunctions\n",
    "w_ex_func = lambdify((X), w_ex.subs([(C1,c1),(C2,c2),(C3,c3),(C4,c4)]))\n",
    "cf_w_ex = w_ex_func(x)\n",
    "cf_sigma_ex = 1/12*cf_w_ex.Diff(x).Diff(x)\n",
    "\n",
    "\n",
    "# Test boundary conditions\n",
    "print(\"test: w(0)    = \", w_ex.subs([(X,0),(C1,c1),(C2,c2),(C3,c3),(C4,c4)]))\n",
    "print(\"test: w'(0)   = \", w_diff_ex.subs([(X,0),(C1,c1),(C2,c2),(C3,c3),(C4,c4)]))\n",
    "print(\"test: w''(1)  = \", w_ddiff_ex.subs([(X,1),(C1,c1),(C2,c2),(C3,c3),(C4,c4)]))\n",
    "print(\"test: w'''(1) = \", diff(w_ddiff_ex,X).subs([(X,1),(C1,c1),(C2,c2),(C3,c3),(C4,c4)]))\n",
    "\n",
    "print(\"test: w(1)    = \", w_ex.subs([(X,1),(C1,c1),(C2,c2),(C3,c3),(C4,c4)]))"
   ]
  },
  {
   "cell_type": "markdown",
   "id": "a01fcfe7",
   "metadata": {},
   "source": [
    "Draw the exact deflection and moment."
   ]
  },
  {
   "cell_type": "code",
   "execution_count": null,
   "id": "b80e6242",
   "metadata": {},
   "outputs": [],
   "source": [
    "mesh = Make1DMesh(10)\n",
    "Draw(cf_w_ex, mesh, deformation=CF( (0, cf_w_ex, 0) ))\n",
    "Draw(cf_sigma_ex, mesh, deformation=CF( (0, cf_sigma_ex, 0) ))"
   ]
  },
  {
   "cell_type": "markdown",
   "id": "cfb1581e",
   "metadata": {},
   "source": [
    "A procedure to solve the Euler-Bernoulli beam using a mixed method using the vertical deflection and the bending moment as unknowns. We can use Lagrange finite elements instead of $C^1$-conforming elements (such as Hermite polynomials)."
   ]
  },
  {
   "cell_type": "code",
   "execution_count": null,
   "id": "3d3f74d5",
   "metadata": {},
   "outputs": [],
   "source": [
    "def SolveBB(order, mesh, draw=True):\n",
    "    fes = H1(mesh, order=order, dirichlet=\"left\")*H1(mesh, order=order, dirichlet=\"right\")\n",
    "    (u,sigma),(du,dsigma) = fes.TnT()\n",
    "    \n",
    "    a = BilinearForm(fes, symmetric=True)\n",
    "    a += (12*sigma*dsigma + grad(u)*grad(dsigma) + grad(du)*grad(sigma) -1e-10*u*du)*dx\n",
    "    \n",
    "    f = LinearForm(fes)\n",
    "    f += -q*du*dx\n",
    "    \n",
    "    gfsol = GridFunction(fes)\n",
    "    \n",
    "    a.Assemble()\n",
    "    f.Assemble()\n",
    "    gfsol.vec.data = a.mat.Inverse(fes.FreeDofs(), inverse=\"sparsecholesky\")*f.vec\n",
    "    gfw, gfsigma = gfsol.components\n",
    "\n",
    "    if draw:\n",
    "        Draw(gfw, mesh, deformation=CF((0, gfw, 0)))\n",
    "        Draw(gfsigma, mesh, deformation=CF((0, gfsigma, 0)))\n",
    "\n",
    "    # relative errors\n",
    "    errW = sqrt(Integrate((gfw-cf_w_ex)**2+(Grad(gfw)-cf_w_ex.Diff(x))**2,mesh))/sqrt(Integrate(cf_w_ex**2+cf_w_ex.Diff(x)**2,mesh))\n",
    "    errsigma = sqrt(Integrate((gfsigma-cf_sigma_ex)**2+(Grad(gfsigma)-cf_sigma_ex.Diff(x))**2,mesh))/sqrt(Integrate(cf_sigma_ex**2+cf_sigma_ex.Diff(x)**2,mesh))\n",
    "    \n",
    "    return (gfw(mesh(1,0,0)), errW, errsigma)\n",
    "\n",
    "tip_deflection, errW, errSigma = SolveBB(order=1, mesh=Make1DMesh(10), draw=True)\n",
    "print(f\"{tip_deflection=}, {errW=}, {errSigma=}\")"
   ]
  },
  {
   "cell_type": "markdown",
   "id": "fb70f41d",
   "metadata": {},
   "source": [
    "## Shear force\n",
    "Next, we apply a shear force at the right end."
   ]
  },
  {
   "cell_type": "code",
   "execution_count": null,
   "id": "40d29927",
   "metadata": {},
   "outputs": [],
   "source": [
    "# shear force\n",
    "q = -0.1\n",
    "\n",
    "\n",
    "X, C1, C2, C3, C4 = symbols(\"x C1 C2 C3 C4\")\n",
    "w_ex = C1/6*X**3+C2/2*X**2+C3*X+C4\n",
    "w_diff_ex = C1/2*X**2+C2*X+C3\n",
    "w_ddiff_ex = C1*X+C2\n",
    "\n",
    "\n",
    "# solve for boundary conditions\n",
    "solve_bc = solve((w_ex.subs(X,0), w_diff_ex.subs(X,0), \\\n",
    "                  w_ddiff_ex.subs(X,1), 1/12*diff(w_ddiff_ex,X).subs(X,1)+q), C1, C2, C3, C4)\n",
    "c1,c2,c3,c4 = solve_bc[C1], solve_bc[C2], solve_bc[C3], solve_bc[C4]\n",
    "\n",
    "# generate CoefficientFunctions\n",
    "w_ex_func = lambdify((X), w_ex.subs([(C1,c1),(C2,c2),(C3,c3),(C4,c4)]))\n",
    "cf_w_ex = w_ex_func(x)\n",
    "cf_sigma_ex = 1/12*cf_w_ex.Diff(x).Diff(x)\n",
    "\n",
    "\n",
    "# Test boundary conditions\n",
    "print(\"test: w(0)    = \", w_ex.subs([(X,0),(C1,c1),(C2,c2),(C3,c3),(C4,c4)]))\n",
    "print(\"test: w'(0)   = \", w_diff_ex.subs([(X,0),(C1,c1),(C2,c2),(C3,c3),(C4,c4)]))\n",
    "print(\"test: w''(1)  = \", w_ddiff_ex.subs([(X,1),(C1,c1),(C2,c2),(C3,c3),(C4,c4)]))\n",
    "print(\"test: w'''(1) = \", diff(w_ddiff_ex,X).subs([(X,1),(C1,c1),(C2,c2),(C3,c3),(C4,c4)]))\n",
    "\n",
    "print(\"test: w(1)    = \", w_ex.subs([(X,1),(C1,c1),(C2,c2),(C3,c3),(C4,c4)]))\n",
    "\n",
    "mesh = Make1DMesh(10)\n",
    "Draw(cf_w_ex,mesh, deformation=CF( (0, cf_w_ex, 0) ))\n",
    "Draw(cf_sigma_ex,mesh, deformation=CF( (0, cf_sigma_ex, 0) ))"
   ]
  },
  {
   "cell_type": "markdown",
   "id": "9795c836",
   "metadata": {},
   "source": [
    "And solve it with the mixed FEM."
   ]
  },
  {
   "cell_type": "code",
   "execution_count": null,
   "id": "24e8768a",
   "metadata": {},
   "outputs": [],
   "source": [
    "def SolveBB(order, mesh, draw=True):\n",
    "    fes = H1(mesh, order=order, dirichlet=\"left\")*H1(mesh, order=order, dirichlet=\"right\")\n",
    "    (u,sigma),(du,dsigma) = fes.TnT()\n",
    "    \n",
    "    a = BilinearForm(fes, symmetric=True)\n",
    "    a += (12*sigma*dsigma + grad(u)*grad(dsigma) + grad(du)*grad(sigma) -1e-10*u*du)*dx\n",
    "    \n",
    "    f = LinearForm(fes)\n",
    "    f += -q*du*ds(\"right\")\n",
    "    \n",
    "    gfsol = GridFunction(fes)\n",
    "    \n",
    "    a.Assemble()\n",
    "    f.Assemble()\n",
    "    gfsol.vec.data = a.mat.Inverse(fes.FreeDofs(), inverse=\"sparsecholesky\")*f.vec\n",
    "    gfw, gfsigma = gfsol.components\n",
    "    \n",
    "    if draw:\n",
    "        Draw(gfw, mesh, deformation=CF((0, gfw, 0)))\n",
    "        Draw(gfsigma, mesh, deformation=CF((0, gfsigma, 0)))\n",
    "\n",
    "    # relative errors\n",
    "    errW = sqrt(Integrate((gfw-cf_w_ex)**2+(Grad(gfw)-cf_w_ex.Diff(x))**2,mesh))/sqrt(Integrate(cf_w_ex**2+cf_w_ex.Diff(x)**2,mesh))\n",
    "    errsigma = sqrt(Integrate((gfsigma-cf_sigma_ex)**2+(Grad(gfsigma)-cf_sigma_ex.Diff(x))**2,mesh))/sqrt(Integrate(cf_sigma_ex**2+cf_sigma_ex.Diff(x)**2,mesh))\n",
    "\n",
    "    return (gfw(mesh(1,0,0)), errW, errsigma)\n",
    "\n",
    "tip_deflection, errW, errSigma = SolveBB(order=1, mesh=Make1DMesh(10), draw=True)\n",
    "print(f\"{tip_deflection=}, {errW=}, {errSigma=}\")"
   ]
  },
  {
   "cell_type": "code",
   "execution_count": null,
   "id": "1726a591",
   "metadata": {},
   "outputs": [],
   "source": []
  }
 ],
 "metadata": {
  "kernelspec": {
   "display_name": "Python 3",
   "language": "python",
   "name": "python3"
  },
  "language_info": {
   "codemirror_mode": {
    "name": "ipython",
    "version": 3
   },
   "file_extension": ".py",
   "mimetype": "text/x-python",
   "name": "python",
   "nbconvert_exporter": "python",
   "pygments_lexer": "ipython3",
   "version": "3.13.1"
  }
 },
 "nbformat": 4,
 "nbformat_minor": 5
}
