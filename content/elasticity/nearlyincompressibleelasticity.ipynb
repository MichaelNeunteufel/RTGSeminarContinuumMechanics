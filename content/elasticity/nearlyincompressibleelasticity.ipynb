{
 "cells": [
  {
   "cell_type": "markdown",
   "metadata": {},
   "source": [
    "# Nearly incompressible elasticity\n",
    "\n",
    "We investigate how nearly incompressible materials (the limit $\\lambda\\to\\infty$, or equivalently $\\nu\\to 1/2$) yields to so-called Poisson (or volume) locking for standard elasticity.\n",
    "\n",
    "We cure the problem by using the Stokes-stable pair $Q^1-P^0$ on quadrilaterals, which is equivalently to reduced integration of the problematic divergence term."
   ]
  },
  {
   "cell_type": "code",
   "execution_count": null,
   "metadata": {},
   "outputs": [],
   "source": [
    "from ngsolve import *\n",
    "from ngsolve.webgui import Draw\n",
    "from ngsolve.meshes import MakeStructured2DMesh"
   ]
  },
  {
   "cell_type": "markdown",
   "metadata": {},
   "source": [
    "A rectangular mesh consisting of quadrilaterals:"
   ]
  },
  {
   "cell_type": "code",
   "execution_count": null,
   "metadata": {},
   "outputs": [],
   "source": [
    "mapping = lambda x,y : (x,0.3*y)\n",
    "mesh = MakeStructured2DMesh(quads=True, nx=10, ny=2, mapping=mapping)\n",
    "Draw(mesh);"
   ]
  },
  {
   "cell_type": "code",
   "execution_count": null,
   "metadata": {},
   "outputs": [],
   "source": [
    "# Young's modulus and Poisson's ratio\n",
    "E  = 10\n",
    "nu = Parameter(0.3)"
   ]
  },
  {
   "cell_type": "markdown",
   "metadata": {},
   "source": [
    "We define the solving procedure, where the polynomial order can be specified as well as if we want to do a projection of the divergence term of linear elasticity."
   ]
  },
  {
   "cell_type": "code",
   "execution_count": null,
   "metadata": {},
   "outputs": [],
   "source": [
    "def Solve(mesh, order=1, projection=False):\n",
    "    fes = VectorH1(mesh, order=order, dirichlet=\"left\")\n",
    "    u,v = fes.TnT()\n",
    "    \n",
    "    mu  = E / 2 / (1+nu)\n",
    "    lam = E * nu / ((1+nu)*(1-2*nu))\n",
    "\n",
    "    a = BilinearForm(fes, symmetric=True)\n",
    "    a += 2*mu*InnerProduct(Sym(Grad(u)),Sym(Grad(v)))*dx\n",
    "    if projection:\n",
    "        #a += lam*Interpolate(div(u),L2(mesh,order=0))*Interpolate(div(v),L2(mesh,order=0))*dx\n",
    "        # alternatively: use reduced integration (equivalent to L2-projection)\n",
    "        a += lam*div(u)*div(v)*dx(bonus_intorder=-1)\n",
    "    else:\n",
    "        a += lam*div(u)*div(v)*dx\n",
    "\n",
    "    f = LinearForm(fes)\n",
    "    f += 0.15*CF((0,x))*v*dx\n",
    "\n",
    "    gfu = GridFunction(fes)\n",
    "    a.Assemble()\n",
    "    f.Assemble()\n",
    "\n",
    "    gfu.vec.data = a.mat.Inverse(fes.FreeDofs(), inverse=\"sparsecholesky\")*f.vec\n",
    "    return gfu"
   ]
  },
  {
   "cell_type": "markdown",
   "metadata": {},
   "source": [
    "Setting $\\nu$ close to $0.5$ will lead to so-called Poisson (volume) locking. When using the projection the locking issue is reduced. Also increasing the polynomial degree helps."
   ]
  },
  {
   "cell_type": "code",
   "execution_count": null,
   "metadata": {},
   "outputs": [],
   "source": [
    "nu.Set(0.4)\n",
    "gfu = Solve(mesh, order=1, projection=False)\n",
    "Draw(gfu, mesh, deformation=True);"
   ]
  },
  {
   "cell_type": "markdown",
   "metadata": {},
   "source": [
    "### Explanation\n",
    "We can define the pressure $p=\\lambda\\mathrm{div} u$ as an additional unknown, which translates the elasticity problem into a mixed Stokes saddle point problem with penalty: Find $(u,p)$ such that for all $(v,q)$\n",
    "\\begin{align*}\n",
    "&\\int_{\\Omega} 2\\mu\\,\\varepsilon(u):\\varepsilon(v)\\,dx &&+\\int_{\\Omega} p\\,\\mathrm{div} v\\,dx &&= \\int_{\\Omega}f\\cdot v\\,dx\\\\\n",
    "&\\int_{\\Omega} q\\,\\mathrm{div} u\\,dx &&-\\int_{\\Omega}\\frac{1}{\\lambda}pq\\,dx &&= 0.\n",
    "\\end{align*}\n",
    "The limit $\\lambda\\to\\infty$ is now well-defined, which is the Stokes problem.\n",
    "\n",
    "We can use the Stokes stable discretization pair $(u_h,p_h)\\in Q^1\\times P^0$, where $Q^1$ is the space of piecewise bi-linear polynomials and $P^0$ the space of piecewise constants, to solve the saddle point problem. However, looking at the second equation, we observe that it is equivalent to the $L^2$-projection of $\\mathrm{div} u$ onto piecewise constants, denoted by $\\Pi^0$, i.e.\n",
    "\\begin{align*}\n",
    "p = \\lambda\\,\\Pi^0\\mathrm{div} u.\n",
    "\\end{align*}\n",
    "Reinserting this into the original elasticity problem we obtain\n",
    "\\begin{align*}\n",
    "&\\int_{\\Omega} 2\\mu\\,\\varepsilon(u):\\varepsilon(v)+ \\lambda\\, \\Pi^0(\\mathrm{div} u)\\,\\Pi^0(\\mathrm{div} v)\\,dx = \\int_{\\Omega}f\\cdot v\\,dx,\n",
    "\\end{align*}\n",
    "which is robust in the nearly incompressible case. Note that the $L^2$-projection corresponds to reduced integration, using less Gauss integration points.\n",
    "\n",
    "This concept of under-integrating a penalty term to weaken it, is a common idea to overcome locking issues. However, one needs to be careful to not induce so-called spurious zero energy modes, which would destroy stability because coercivity would be lost (note, this cannot happen here, as the first term $\\varepsilon(u)$ controls the divergence)."
   ]
  },
  {
   "cell_type": "code",
   "execution_count": null,
   "metadata": {},
   "outputs": [],
   "source": []
  }
 ],
 "metadata": {
  "kernelspec": {
   "display_name": "Python 3",
   "language": "python",
   "name": "python3"
  },
  "language_info": {
   "codemirror_mode": {
    "name": "ipython",
    "version": 3
   },
   "file_extension": ".py",
   "mimetype": "text/x-python",
   "name": "python",
   "nbconvert_exporter": "python",
   "pygments_lexer": "ipython3",
   "version": "3.13.1"
  }
 },
 "nbformat": 4,
 "nbformat_minor": 2
}
