{
 "cells": [
  {
   "cell_type": "markdown",
   "metadata": {},
   "source": [
    "# Linear Elasticity\n",
    "In this notebook we solve a simple linear elasticity problem in NGSolve.\n",
    "\n",
    "First, we import the required packages."
   ]
  },
  {
   "cell_type": "code",
   "execution_count": null,
   "metadata": {},
   "outputs": [],
   "source": [
    "from netgen.occ import *\n",
    "from ngsolve import *\n",
    "from ngsolve.webgui import Draw"
   ]
  },
  {
   "cell_type": "markdown",
   "metadata": {},
   "source": [
    "Next, we generate a mesh for the rectangular domain $\\Omega=[0,1]\\times [-t/2,t/2]$. We define the boundary $\\Gamma_D=\\{0\\}\\times[-t/2,t/2]$ as the Dirichlet boundary where the material is fixed, $u_D=0$, and on the remaining Neumann boundary $\\Gamma_N=\\partial\\Omega\\setminus\\Gamma_D$ we either might describe a traction force. We name the left and right boundary edges, and restrict the mesh size on the left, where we will prescribe Dirichlet boundary conditions to fix the material."
   ]
  },
  {
   "cell_type": "code",
   "execution_count": null,
   "metadata": {},
   "outputs": [],
   "source": [
    "def GenerateMesh(t=0.1):\n",
    "    bar = MoveTo(0,-t/2).Rectangle(1,t).Face()\n",
    "    bar.edges.Min(X).name=\"left\"\n",
    "    bar.edges.Max(X).name=\"right\"\n",
    "    bar.edges.Min(X).maxh=t/6\n",
    "    mesh = Mesh(OCCGeometry(bar, dim=2).GenerateMesh(maxh=t/3))\n",
    "    return mesh\n",
    "mesh = GenerateMesh()\n",
    "Draw(mesh);"
   ]
  },
  {
   "cell_type": "markdown",
   "metadata": {},
   "source": [
    "We specify the force as the right-hand side and the material parameters (Young modulus $E$ and Poisson's ratio $\\nu$; and the corresponding Lam\\'e parameters $\\mu$ and $\\lambda$). Then we define the linear material law of Hooke, giving as the stress-strain relation\n",
    "\\begin{align*}\n",
    "\\sigma = \\mathbb{C}\\varepsilon := 2\\mu\\varepsilon + \\lambda \\,\\mathrm{tr}(\\varepsilon)I.\n",
    "\\end{align*}"
   ]
  },
  {
   "cell_type": "code",
   "execution_count": null,
   "metadata": {},
   "outputs": [],
   "source": [
    "force = CF( (0,0.1) )\n",
    "\n",
    "E = 100    # Young modulus \n",
    "nu = 0.2   # Poisson ratio\n",
    "# Lame parameters\n",
    "mu  = E / 2 / (1+nu)\n",
    "lam = E * nu / ((1+nu)*(1-2*nu))\n",
    "\n",
    "# material law of Hooke\n",
    "def Hooke(eps):\n",
    "    return 2*mu*eps + lam*Trace(eps)*Id(2)"
   ]
  },
  {
   "cell_type": "markdown",
   "metadata": {},
   "source": [
    "The problem of linear elasticity reads as follows: For given body force $f$ and traction force $g$ on $\\Gamma_N$, find $u\\in H^1(\\Omega,\\mathbb{R}^2)$ such that $u=u_D$ on $\\Gamma_D$ and for all $v\\in H^1_{\\Gamma_D}(\\Omega,\\mathbb{R}^2)$ there holds\n",
    "$$ \\int_{\\Omega}\\mathbb{C}\\varepsilon(u):\\varepsilon(v)\\,dx = \\int_{\\Omega}f\\cdot v\\,dx + \\int_{\\Gamma_N} g\\cdot v\\,ds. $$\n",
    "\n",
    "We consider either a volume force $f$ or a shear force $g$ acting on the right boundary."
   ]
  },
  {
   "cell_type": "code",
   "execution_count": null,
   "metadata": {},
   "outputs": [],
   "source": [
    "def Solve(mesh, order=2):\n",
    "    fes = VectorH1(mesh, order=order, dirichlet=\"left\")\n",
    "    u,v = fes.TnT()\n",
    "\n",
    "    a = BilinearForm(fes, symmetric=True)\n",
    "    a += InnerProduct(Hooke(Sym(Grad(u))),Sym(Grad(v)))*dx\n",
    "    # alternatively\n",
    "    #a += (2*mu*InnerProduct(Sym(Grad(u)),Sym(Grad(v)))+lam*div(u)*div(v))*dx\n",
    "\n",
    "    f = LinearForm(fes)\n",
    "    f += -force*v*ds(\"right\") # shear force at right boundary\n",
    "    # f += -force*v*dx # volume force (gravity)\n",
    "\n",
    "    gfu = GridFunction(fes)\n",
    "    a.Assemble()\n",
    "    f.Assemble()\n",
    "\n",
    "    gfu.vec.data = a.mat.Inverse(fes.FreeDofs(), inverse=\"sparsecholesky\")*f.vec\n",
    "    return gfu"
   ]
  },
  {
   "cell_type": "markdown",
   "metadata": {},
   "source": [
    "We draw the xx-component of the stress. We see that it is positive where the material is stretched in x-direction and negative when it is compressed."
   ]
  },
  {
   "cell_type": "code",
   "execution_count": null,
   "metadata": {},
   "outputs": [],
   "source": [
    "mesh = GenerateMesh()\n",
    "gfu = Solve(mesh)\n",
    "Draw (Hooke(Sym(Grad(gfu)))[0,0], mesh, deformation=gfu);"
   ]
  },
  {
   "cell_type": "code",
   "execution_count": null,
   "metadata": {},
   "outputs": [],
   "source": []
  }
 ],
 "metadata": {
  "kernelspec": {
   "display_name": "Python 3",
   "language": "python",
   "name": "python3"
  },
  "language_info": {
   "codemirror_mode": {
    "name": "ipython",
    "version": 3
   },
   "file_extension": ".py",
   "mimetype": "text/x-python",
   "name": "python",
   "nbconvert_exporter": "python",
   "pygments_lexer": "ipython3",
   "version": "3.13.1"
  }
 },
 "nbformat": 4,
 "nbformat_minor": 2
}
