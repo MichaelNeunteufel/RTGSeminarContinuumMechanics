{
 "cells": [
  {
   "cell_type": "markdown",
   "metadata": {},
   "source": [
    "# Nonlinear Elasticity\n",
    "\n",
    "In this notebook we compare three different materials. The linear material law of Hooke, the geometric nonlinear material law of St.Venant-Kirchhoff, and the nonlinear Neo-Hooke material law, which avoids that the material gets fully compressed by penalizing the volume (deformation determinant) going to zero."
   ]
  },
  {
   "cell_type": "code",
   "execution_count": null,
   "metadata": {},
   "outputs": [],
   "source": [
    "from ngsolve import *\n",
    "from ngsolve.webgui import Draw\n",
    "from netgen.occ import *"
   ]
  },
  {
   "cell_type": "markdown",
   "metadata": {},
   "source": [
    "We consider the same domain as in the linear elasticity example."
   ]
  },
  {
   "cell_type": "code",
   "execution_count": null,
   "metadata": {},
   "outputs": [],
   "source": [
    "def GenerateMesh(t=0.1):\n",
    "    bar = MoveTo(0,-t/2).Rectangle(1,t).Face()\n",
    "    bar.edges.Min(X).name=\"left\"\n",
    "    bar.edges.Max(X).name=\"right\"\n",
    "    bar.edges.Min(X).maxh=t/8\n",
    "    mesh = Mesh(OCCGeometry(bar, dim=2).GenerateMesh(maxh=t/2.5))\n",
    "    return mesh\n",
    "mesh = GenerateMesh()\n",
    "Draw(mesh);"
   ]
  },
  {
   "cell_type": "markdown",
   "metadata": {},
   "source": [
    "Remember that with the displacement $u$, the deformation gradient $\\boldsymbol{F}$, Cauchy-Green strain tensor $\\boldsymbol{C}$, and Green strain tensor $\\boldsymbol{E}$ reads\n",
    "\\begin{align*}\n",
    "\\boldsymbol{F} = \\nabla u + \\boldsymbol{I},\\qquad \\boldsymbol{C} = \\boldsymbol{F}^T\\boldsymbol{F},\\qquad \\boldsymbol{E}=\\frac{1}{2}(\\boldsymbol{C}-\\boldsymbol{I}) = \\frac{1}{2}(\\nabla u^T\\nabla u+\\nabla u^T+\\nabla u).\n",
    "\\end{align*}\n",
    "\n",
    "With the Cauchy-Green and Green strain tensor at hand, we define the three material laws by their hyperelastic energy densities \n",
    "\\begin{align*}\n",
    "\\Psi^{H}(E) &= \\mu\\,\\|\\varepsilon(u)\\|^2+\\frac{\\lambda}{2}\\mathrm{tr}(\\varepsilon(u))^2,\\\\\n",
    "\\Psi^{VK}(E) &= \\mu\\,\\|E\\|^2+\\frac{\\lambda}{2}\\mathrm{tr}(E)^2,\\\\\n",
    "\\Psi^{NH}(C) &= \\frac{\\mu}{2}(\\mathrm{tr}(C-I)-\\log(\\det(C))) + \\frac{\\lambda}{2}(\\sqrt{\\det(C)}-1)^2.\n",
    "\\end{align*}"
   ]
  },
  {
   "cell_type": "code",
   "execution_count": null,
   "metadata": {},
   "outputs": [],
   "source": [
    "E, nu = 210, 0.2\n",
    "mu  = E / 2 / (1+nu)\n",
    "lam = E * nu / ((1+nu)*(1-2*nu))\n",
    "\n",
    "def C(u):\n",
    "    F = Id(2) + Grad(u)\n",
    "    return F.trans * F\n",
    "\n",
    "def Hooke(u):\n",
    "    E = Sym(Grad(u))\n",
    "    return mu*InnerProduct(E,E) + lam/2*Trace(E)**2\n",
    "\n",
    "def StVenantKirchhoff(u):\n",
    "    E = 0.5*(C(u)-Id(2))\n",
    "    return mu*InnerProduct(E,E) + lam/2*Trace(E)**2\n",
    "\n",
    "def NeoHooke(u):\n",
    "    return mu/2*(Trace(C(u)-Id(2))- log(Det(C(u)))) + lam/2*(Det(Id(2)+Grad(u))-1)**2"
   ]
  },
  {
   "cell_type": "markdown",
   "metadata": {},
   "source": [
    "Instead of working with the weak form, we can directly use the energy minimization formulation\n",
    "$$\\mathcal{W}(u) = \\int_{\\Omega} \\Psi(u) - f u\\,dx \\to\\min!$$\n",
    "and let NGSolve compute the first and second variation needed for Newton's method to solve the nonlinear minimization problem for us.\n",
    "\n",
    "Note, that we only use the trial function $u$ (no test function $v$). Further, we need to write the expression inside Variation() to tell NGSolve that it needs to compute the first and second variation. To help Newton's method to converge, we use the concept of load-stepping. To this end, we scale the right-hand side by a factor in $(0,1]$ and increase it after Newton converged. Then the previously computed solution is used as initial guess for the next load-step."
   ]
  },
  {
   "cell_type": "code",
   "execution_count": null,
   "metadata": {},
   "outputs": [],
   "source": [
    "factor = Parameter(0)\n",
    "force = CF( (0,-factor) )\n",
    "\n",
    "fes = VectorH1(mesh, order=3, dirichlet=\"left\")\n",
    "u  = fes.TrialFunction()\n",
    "\n",
    "aNH = BilinearForm(fes, symmetric=True)\n",
    "aNH += Variation((NeoHooke(u)-force*u)*dx)\n",
    "\n",
    "gfuNH = GridFunction(fes)"
   ]
  },
  {
   "cell_type": "markdown",
   "metadata": {},
   "source": [
    "We can construct a simple Newton solver, using automatic differentiation for residual and tangential stiffness. Apply() computes the first variation and AssembleLinearization() the second one. With Energy() the energy is evaluated. We see that it gets minimized during Newton's method."
   ]
  },
  {
   "cell_type": "code",
   "execution_count": null,
   "metadata": {},
   "outputs": [],
   "source": [
    "def SolveNewton():\n",
    "    res = gfuNH.vec.CreateVector()\n",
    "    \n",
    "    for it in range(10):\n",
    "        print (\"it\", it, \"energy = \", aNH.Energy(gfuNH.vec))\n",
    "        aNH.Apply(gfuNH.vec, res)\n",
    "        aNH.AssembleLinearization(gfuNH.vec)\n",
    "        inv = aNH.mat.Inverse(fes.FreeDofs(), inverse=\"sparsecholesky\") \n",
    "        gfuNH.vec.data -= inv*res"
   ]
  },
  {
   "cell_type": "markdown",
   "metadata": {},
   "source": [
    "Solve the problem and draw the xx-component of the Cauchy-Green tensor, which is greater than 1 if the material gets stretched in x-direction during deformation and small than 1 when compressed."
   ]
  },
  {
   "cell_type": "code",
   "execution_count": null,
   "metadata": {},
   "outputs": [],
   "source": [
    "factor.Set(0.4)\n",
    "SolveNewton()\n",
    "scene = Draw (C(gfuNH)[0,0], mesh, deformation=gfuNH)"
   ]
  },
  {
   "cell_type": "markdown",
   "metadata": {},
   "source": [
    "We can increase the load-step and solve with the last solution as initial guess."
   ]
  },
  {
   "cell_type": "code",
   "execution_count": null,
   "metadata": {},
   "outputs": [],
   "source": [
    "factor.Set(factor.Get()+0.4)\n",
    "solvers.Newton(aNH,gfuNH)\n",
    "scene.Redraw()"
   ]
  },
  {
   "cell_type": "markdown",
   "metadata": {},
   "source": [
    "## Compare linear Hooke, St. Venant-Kirchhoff and Neo-Hooke\n",
    "\n",
    "Next, we compare the three material laws. We start with the linear material law of Hooke."
   ]
  },
  {
   "cell_type": "code",
   "execution_count": null,
   "metadata": {},
   "outputs": [],
   "source": [
    "def SolveHooke(mesh, order=2):\n",
    "    fes = VectorH1(mesh, order=order, dirichlet=\"left\")\n",
    "    u,v = fes.TnT()\n",
    "\n",
    "    a = BilinearForm(fes, symmetric=True)\n",
    "    a += Variation( Hooke(u)*dx-force*u*dx)\n",
    "\n",
    "    gfu = GridFunction(fes)\n",
    "    \n",
    "    r = gfu.vec.CreateVector()\n",
    "    a.Apply(gfu.vec, r)\n",
    "    a.AssembleLinearization(gfu.vec)\n",
    "\n",
    "    gfu.vec.data -= a.mat.Inverse(fes.FreeDofs(), inverse=\"sparsecholesky\")*r\n",
    "    return gfu"
   ]
  },
  {
   "cell_type": "markdown",
   "metadata": {},
   "source": [
    "Solve it and draw the deformation determinant $J=\\det(\\boldsymbol{F})= \\nabla u+\\boldsymbol{I}$. We see that for larger deformations, the linear material law of Hooke is unable to give satisfying results."
   ]
  },
  {
   "cell_type": "code",
   "execution_count": null,
   "metadata": {},
   "outputs": [],
   "source": [
    "factor.Set(8)\n",
    "gfu = SolveHooke(mesh)\n",
    "Draw(Det(Id(2)+Grad(gfu)), mesh, deformation=gfu)"
   ]
  },
  {
   "cell_type": "markdown",
   "metadata": {},
   "source": [
    "Next, we consider the St.Venant-Kirchhoff material law, which is geometrically nonlinear. It therefore delivers correct (meaning more realistic) results for larger deformation, but it is unable the prevent elements to be compressed to zero or even pressed through each other. If this happens, Newton does not converge anymore."
   ]
  },
  {
   "cell_type": "code",
   "execution_count": null,
   "metadata": {},
   "outputs": [],
   "source": [
    "aVK = BilinearForm(fes, symmetric=True)\n",
    "aVK += Variation((StVenantKirchhoff(u)-force*u)*dx)\n",
    "\n",
    "gfuVK = GridFunction(fes)\n",
    "\n",
    "scene = Draw (Det(Id(2)+Grad(gfuVK)), mesh, deformation=gfuVK)"
   ]
  },
  {
   "cell_type": "markdown",
   "metadata": {},
   "source": [
    "Newton's method with load-stepping algorithm using the NGSolve intern Newton solver."
   ]
  },
  {
   "cell_type": "code",
   "execution_count": null,
   "metadata": {
    "scrolled": false
   },
   "outputs": [],
   "source": [
    "numsteps=10\n",
    "with TaskManager():\n",
    "    for i in range(numsteps):\n",
    "        factor.Set(5*(i+1)/numsteps)\n",
    "        print(\"loadstep = \", 5*(i+1)/numsteps)\n",
    "        (result,it) = solvers.Newton(aVK, gfuVK, maxerr=1e-9, printing=False, maxit=50, inverse=\"sparsecholesky\")\n",
    "        if result == 0:\n",
    "            scene.Redraw()\n",
    "        if result != 0:\n",
    "            input(\"Did not converge\")\n",
    "            scene.Redraw()\n",
    "            break"
   ]
  },
  {
   "cell_type": "markdown",
   "metadata": {},
   "source": [
    "The fully nonlinear material law of Hooke is able to handle large deformations including compression of elements. Its energy goes to infinity if the volume goes to zero. Therefore, the elements are prevented to degenerate or press through each other."
   ]
  },
  {
   "cell_type": "code",
   "execution_count": null,
   "metadata": {},
   "outputs": [],
   "source": [
    "gfuNH.vec[:] = 0\n",
    "scene = Draw (Det(Id(2)+Grad(gfuNH)), mesh, deformation=gfuNH)\n",
    "numsteps=10\n",
    "with TaskManager():\n",
    "    for i in range(numsteps):\n",
    "        factor.Set(10*(i+1)/numsteps)\n",
    "        print(\"loadstep = \", 10*(i+1)/numsteps)\n",
    "        (result,it) = solvers.Newton(aNH, gfuNH, maxerr=1e-9, printing=False, maxit=30, inverse=\"sparsecholesky\")\n",
    "        if result == 0:\n",
    "            scene.Redraw()\n",
    "        else:\n",
    "            break"
   ]
  },
  {
   "cell_type": "code",
   "execution_count": null,
   "metadata": {},
   "outputs": [],
   "source": []
  }
 ],
 "metadata": {
  "kernelspec": {
   "display_name": "Python 3",
   "language": "python",
   "name": "python3"
  },
  "language_info": {
   "codemirror_mode": {
    "name": "ipython",
    "version": 3
   },
   "file_extension": ".py",
   "mimetype": "text/x-python",
   "name": "python",
   "nbconvert_exporter": "python",
   "pygments_lexer": "ipython3",
   "version": "3.13.1"
  }
 },
 "nbformat": 4,
 "nbformat_minor": 2
}
