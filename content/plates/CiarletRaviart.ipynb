{
 "cells": [
  {
   "cell_type": "markdown",
   "metadata": {},
   "source": [
    "# Ciarlet-Raviart method for Kirchhoff-Love plates\n",
    "The Ciarlet-Raviart method for Kirchhoff-Love plates is based on the following idea. Assume that the material tensor $\\mathcal{C}$ is the identity (or a multiple of it). Then the strong form of the Kirchhoff-Love plate is equivalent to a bi-Laplacian problem\n",
    "\n",
    "\\begin{align*}\n",
    "\\mathrm{div}\\mathrm{div}(\\nabla^2 w) = \\Delta^2 w = f.\n",
    "\\end{align*}\n",
    "\n",
    "We define the scalar $\\sigma=\\Delta w $ (the trace of the full bending moment tensor $\\sigma$ from the HHJ method) as an additional unknown. Then, for clamped boundaries $w\\in H_0^2(\\Omega)$, we obtain the following saddle-point problem: Find $(w,\\sigma)\\in H^1_0(\\Omega)\\times H^1(\\Omega)$ such that\n",
    "\n",
    "\\begin{align*}\n",
    "&\\int_{\\Omega} \\sigma\\,\\delta\\sigma\\,dx + \\int_{\\Omega}\\nabla\\delta\\sigma\\cdot\\nabla w\\,dx& &= 0 \\qquad \\forall \\delta\\sigma\\in H^1(\\Omega),\\\\\n",
    "& \\int_{\\Omega}\\nabla\\sigma\\cdot\\nabla\\delta w\\,dx& &= -\\int_{\\Omega}f\\,\\delta w\\,dx \\qquad \\forall \\delta w\\in H_0^1(\\Omega).\n",
    "\\end{align*}\n",
    "It looks simpler than the HHJ method, as $\\sigma$ is now a scalar in $H^1$. Let's see how good it performs."
   ]
  },
  {
   "cell_type": "code",
   "execution_count": null,
   "metadata": {},
   "outputs": [],
   "source": [
    "from ngsolve import *\n",
    "from ngsolve.webgui import Draw\n",
    "from netgen.occ import *\n",
    "mesh = Mesh(unit_square.GenerateMesh(maxh=0.1))"
   ]
  },
  {
   "cell_type": "code",
   "execution_count": null,
   "metadata": {},
   "outputs": [],
   "source": [
    "def SolveHHJ(order, mesh, draw=False, clamped=\".*\", free=\"\", simplysupp=\"\"):\n",
    "    V = HDivDiv(mesh, order=order, dirichlet=free+\"|\"+simplysupp)\n",
    "    Q = H1(mesh, order=order+1, dirichlet=clamped+\"|\"+simplysupp)\n",
    "    X = V*Q\n",
    "    (sigma, w), (tau, v) = X.TnT()\n",
    "\n",
    "    n = specialcf.normal(2)\n",
    "\n",
    "    def tang(u): return u-(u*n)*n\n",
    "\n",
    "    a = BilinearForm(X, symmetric=True)\n",
    "    a += (InnerProduct(sigma, tau) + div(sigma)*grad(v) \\\n",
    "          + div(tau)*grad(w) - 1e-8*w*v )*dx \\\n",
    "          + (-(sigma*n) * tang(grad(v)) - (tau*n)*tang(grad(w)))*dx(element_boundary=True)\n",
    "    a.Assemble()\n",
    "\n",
    "    f = LinearForm(X)\n",
    "    f += 100*v*dx\n",
    "    f.Assemble()\n",
    "\n",
    "    gfsol = GridFunction(X)\n",
    "    gfsol.vec.data = a.mat.Inverse(X.FreeDofs(), inverse=\"sparsecholesky\") * f.vec\n",
    "\n",
    "    gfsigma, gfw = gfsol.components\n",
    "    if draw:\n",
    "        Draw(gfw, mesh, deformation=True)\n",
    "        \n",
    "    return gfw, gfsigma\n",
    "\n",
    "def SolveCR(order, mesh, draw=False, clamped=\".*\", free=\"\", simplysupp=\"\"):\n",
    "    V1 = H1(mesh, order=order, dirichlet=clamped+\"|\"+simplysupp)\n",
    "    V2 = H1(mesh, order=order,dirichlet=free+\"|\"+simplysupp)\n",
    "    V = V1*V2\n",
    "    (w,sigma),(v,tau) = V.TnT()\n",
    "    \n",
    "    a = BilinearForm(V, symmetric=True)\n",
    "    a += (sigma*tau + Grad(tau)*Grad(w)+Grad(sigma)*Grad(v) -1e-8*w*v)*dx\n",
    "    a.Assemble()\n",
    "    \n",
    "    f = LinearForm(V)\n",
    "    f += 100*v*dx\n",
    "    f.Assemble()\n",
    "    \n",
    "    gfsol = GridFunction(V)\n",
    "    gfw,gfsigma = gfsol.components\n",
    "    \n",
    "    gfsol.vec.data = a.mat.Inverse(V.FreeDofs(), inverse=\"sparsecholesky\")*f.vec\n",
    "    \n",
    "    if draw:\n",
    "        Draw(gfw, mesh, deformation=True)\n",
    "        \n",
    "    return gfw, gfsigma"
   ]
  },
  {
   "cell_type": "markdown",
   "metadata": {},
   "source": [
    "Let's start with fully clamped boundaries."
   ]
  },
  {
   "cell_type": "code",
   "execution_count": null,
   "metadata": {},
   "outputs": [],
   "source": [
    "gfw1, gfsigma1 = SolveHHJ(order=2, mesh=mesh, draw=True, clamped=\".*\")\n",
    "gfw2, gfsigma2 = SolveCR (order=3, mesh=mesh, draw=True, clamped=\".*\")\n",
    "\n",
    "print(\"diff = \", sqrt(Integrate( (gfw1-gfw2)**2,mesh)))"
   ]
  },
  {
   "cell_type": "markdown",
   "metadata": {},
   "source": [
    "As we see, both methods deliver good results. What about simply supported boundaries?"
   ]
  },
  {
   "cell_type": "code",
   "execution_count": null,
   "metadata": {},
   "outputs": [],
   "source": [
    "gfw1, gfsigma1 = SolveHHJ(order=2, mesh=mesh, draw=True, clamped=\"left|right\", free=\"\", simplysupp=\"top|bottom\")\n",
    "gfw2, gfsigma2 = SolveCR (order=3, mesh=mesh, draw=True, clamped=\"left|right\", free=\"\", simplysupp=\"top|bottom\")\n",
    "\n",
    "print(\"diff = \", sqrt(Integrate( (gfw1-gfw2)**2,mesh)))"
   ]
  },
  {
   "cell_type": "markdown",
   "metadata": {},
   "source": [
    "It works too. But, what about free boundaries?"
   ]
  },
  {
   "cell_type": "code",
   "execution_count": null,
   "metadata": {},
   "outputs": [],
   "source": [
    "gfw1, gfsigma1 = SolveHHJ(order=2, mesh=mesh, draw=True, clamped=\"left|right\", free=\"top|bottom\", simplysupp=\"\")\n",
    "gfw2, gfsigma2 = SolveCR (order=3, mesh=mesh, draw=True, clamped=\"left|right\", free=\"top|bottom\", simplysupp=\"\")\n",
    "\n",
    "print(\"diff = \", sqrt(Integrate( (gfw1-gfw2)**2,mesh)))"
   ]
  },
  {
   "cell_type": "markdown",
   "metadata": {},
   "source": [
    "We observe that the Ciarlet-Raviart method yields an entirely wrong solution, whereas the HHJ method performs well. It fails no matter how we try to incorporate the free boundary condition. This shows that the stress $\\sigma$ must be discretized by a matrix; a scalar is not enough to account for all possible boundary conditions. However, if you only consider plates with Dirichlet and/or simply supported boundary conditions, the Ciarlet-Raviart method performs rather well."
   ]
  },
  {
   "cell_type": "code",
   "execution_count": null,
   "metadata": {},
   "outputs": [],
   "source": []
  }
 ],
 "metadata": {
  "kernelspec": {
   "display_name": "Python 3",
   "language": "python",
   "name": "python3"
  },
  "language_info": {
   "codemirror_mode": {
    "name": "ipython",
    "version": 3
   },
   "file_extension": ".py",
   "mimetype": "text/x-python",
   "name": "python",
   "nbconvert_exporter": "python",
   "pygments_lexer": "ipython3",
   "version": "3.13.1"
  }
 },
 "nbformat": 4,
 "nbformat_minor": 4
}
