{
 "cells": [
  {
   "cell_type": "markdown",
   "metadata": {},
   "source": [
    "# Reissner-Mindlin plate: boundary layers\n",
    "In this notebook, we discuss the appearance of boundary layers when solving the Reissner-Mindlin plate equation.\n",
    "\n",
    "In the limit $t\\to 0$, the rotations $\\beta$ are enforced to be $\\nabla w$. When not handled correctly, shear locking occur. Even if a shear locking-free method is considered, allowing $\\beta=\\nabla w$ in the domain, the boundary conditions can be incompatible in the limit case. The reason is that we can prescribe two boundary conditions for the rotations at the boundary; however, only one for $\\nabla w$, because the tangential derivative of $w$ is already fixed by $w$; only the normal derivative, $\\partial_n w$, can be prescribed in the Kirchhoff-Love limit. Thus, a boundary layer may appear where the rotations rapidly change (from fulfilling the boundary conditions to being close to $\\nabla w$ at the interior). Boundary layers are less significant for clamped and hard simply supported boundary conditions. Soft simply supported and free boundary conditions often lead to strong boundary layers. \n",
    "\n",
    "The boundary layer size is in the regime of the thickness, $\\mathcal{O}(t)$. Reduced convergence may be observed if the mesh does not resolve this layer. One technique is to generate boundary layer meshes by placing small (anisotropic) elements. The optimal mesh depends on the thickness, but also the polynomial discretization order. Further, when having very anisotropic elements (high aspect ratio), rounding errors might reduce the overall accuracy.\n",
    "\n",
    "Adaptive mesh refinement can be applied to identify the boundary layers. However, the number of elements is mostly too high, and the elements become very small quickly at the boundary layers. Thus, adaptive mesh refinement is commonly used with postprocessing techniques to change the mesh and account for the anisotropic behavior."
   ]
  },
  {
   "cell_type": "code",
   "execution_count": null,
   "metadata": {},
   "outputs": [],
   "source": [
    "from ngsolve import *\n",
    "from ngsolve.webgui import Draw\n",
    "from ngsolve.meshes import MakeStructured2DMesh"
   ]
  },
  {
   "cell_type": "code",
   "execution_count": null,
   "metadata": {},
   "outputs": [],
   "source": [
    "# length and thickness of plate\n",
    "L  = 1\n",
    "t  = 0.01\n",
    "\n",
    "E  = 1e6\n",
    "nu = 0.3\n",
    "k  = 5/6\n",
    "G = E/(2*(1+nu))\n",
    "\n",
    "# force\n",
    "q = sin(pi*x/L)"
   ]
  },
  {
   "cell_type": "markdown",
   "metadata": {},
   "source": [
    "We consider an example taken from [<a href=\"https://onlinelibrary.wiley.com/doi/abs/10.1002/nme.5467\">Sze, Hu. Assumed natural strain and stabilized quadrilateral Lobatto spectral elements for C0 plate/shell analysis. <i>Int. J. Numer. Meth. Engng.</i> 2017</a>], where an analytical solution is computed using MAPLE to solve the arising eigenvalue problem with high accuracy.\n",
    "\n"
   ]
  },
  {
   "cell_type": "code",
   "execution_count": null,
   "metadata": {},
   "outputs": [],
   "source": [
    "def GetExSolution():\n",
    "    w_ex = 0.112104526221152940265548393276936140028759596241*sin(pi*x) + 0.000632409771566098572843110743663530806201297944823*cosh(pi*y)*sin(pi*x) + 0.0137001636773051064646072440194929287608001683819*y*sinh(pi*y)*sin(pi*x) - 0.0000316122092964093846904903925214350233381599376977*sin(pi*x)*(0.0778005614549296617758704561411247100184621005913*cosh(pi*y) - 1.)\n",
    "    bx = -0.352186756010538421893888815359115479436251630729*cos(pi*x) - 0.00198677389241045458752509183859938924329787256447*cosh(pi*y)*cos(pi*x) - 0.0430403335615994492112989782730640026686362137495*y*sinh(pi*y)*cos(pi*x) + 7.62933329113248462226480296578731364181334216691*10**(-72)*cosh(316.243370846569824755438139785423222466896713500*y)*cos(pi*x)\n",
    "    by = -0.0156869375697155610521323358580923180040980409464*sinh(pi*y)*sin(pi*x) - 0.0430403335615994492112989782730640026686362137495*y*cosh(pi*y)*sin(pi*x) + 7.57905449687304576716760045185638770870950062624*10**(-74)*sinh(316.243370846569824755438139785423222466896713500*y)*sin(pi*x)\n",
    "    return w_ex, CF( (bx,by) )\n",
    "\n",
    "w_ex, b_ex = GetExSolution()\n",
    "grad_w_ex = CF((w_ex.Diff(x), w_ex.Diff(y)))\n",
    "grad_b_ex = CF((b_ex.Diff(x), b_ex.Diff(y)), dims=(2,2)).trans\n",
    "\n",
    "def CMat(mat, E, nu):\n",
    "    return E / (12 * (1 - nu**2)) * ((1 - nu) * mat + nu * Trace(mat) * Id(2))\n",
    "\n",
    "sigma_ex = CMat(Sym(grad_b_ex), E, nu)\n",
    "div_sigma_ex = CF((sigma_ex[0,0].Diff(x) + sigma_ex[0,1].Diff(y), sigma_ex[1,0].Diff(x) + sigma_ex[1,1].Diff(y)))\n",
    "\n",
    "equ1 = -t**3*div_sigma_ex + t*k*G*(grad_w_ex+b_ex)\n",
    "shear = k*G*t*(grad_w_ex+b_ex)\n",
    "equ2 = -(shear[0].Diff(x) + shear[1].Diff(y)) - q "
   ]
  },
  {
   "cell_type": "markdown",
   "metadata": {},
   "source": [
    "Test that the exact solution is really a solution. The boundary layer can be seen best by the shear stress $\\gamma=t\\kappa G (\\nabla w +\\beta)$."
   ]
  },
  {
   "cell_type": "code",
   "execution_count": null,
   "metadata": {},
   "outputs": [],
   "source": [
    "def GenerateMesh(n=10, bl=False, layer_width=None, num_layer=None):\n",
    "    if bl:\n",
    "        scale = layer_width\n",
    "        ratio = (num_layer/n)\n",
    "                \n",
    "        mapping = lambda x,y: (L/2*x,L/2*y/ratio*scale -L/2 if y < ratio else L/2*((1-scale)/(1-ratio)*y+(scale-ratio)/(1-ratio))-L/2)\n",
    "    else:\n",
    "        mapping = lambda x,y: (L/2*x,-L/2+L/2*y)\n",
    "                \n",
    "    return MakeStructured2DMesh(quads=False, nx=n, ny=n, mapping=mapping)\n",
    "\n",
    "mesh = GenerateMesh(n=12, bl=True, layer_width=2*t, num_layer=4)\n",
    "# draw shear stress to see the boundary layer\n",
    "Draw(Norm(shear), mesh, \"shear\", order=4, deformation=True)\n",
    "# test if the exact solution solves the equations\n",
    "print(f\"equ1 = {sqrt(Integrate(equ1*equ1, mesh,order=11))}\")\n",
    "print(f\"equ2 = {sqrt(Integrate(equ2*equ2, mesh,order=11))}\")"
   ]
  },
  {
   "cell_type": "markdown",
   "metadata": {},
   "source": [
    "We use the shear locking free TDNNS method for Reissner-Mindlin plates <a href=\"https://link.springer.com/article/10.1007/s00211-017-0883-9\">Pechstein and Schöberl. The TDNNS method for Reissner-Mindlin plates. <i> Numerische Mathematik 137</i>, 3 (2017), 713-740</a>]."
   ]
  },
  {
   "cell_type": "code",
   "execution_count": null,
   "metadata": {},
   "outputs": [],
   "source": [
    "def MaterialInv(mat):\n",
    "    mu  = E / 2 / (1+nu)\n",
    "    lam = E * nu / (1-nu**2)\n",
    "    return 1/(2*mu)*(mat-1/2*Trace(mat)*Id(2))+1/(4*(lam+mu))*Trace(mat)*Id(2)\n",
    "\n",
    "def SolveRM_TDNNS(mesh, order=1):\n",
    "    fesB = HCurl(mesh, order=order-1, dirichlet=\"left\")\n",
    "    fesS = Discontinuous(HDivDiv(mesh, order=order-1))\n",
    "    fesH = NormalFacetFESpace(mesh, order=order-1, dirichlet=\"right|top\")\n",
    "    fesW = H1(mesh, order=order, dirichlet=\"left\")\n",
    "\n",
    "    fes = fesW*fesB*fesS*fesH\n",
    "    (w,beta,sigma,alpha), (v,delta,tau, dalpha) = fes.TnT()\n",
    "    \n",
    "    n = specialcf.normal(2)\n",
    "    \n",
    "    a = BilinearForm(fes, symmetric=True, condense=True)\n",
    "    a += (-12/t**3*InnerProduct(MaterialInv(sigma),tau) \\\n",
    "          + InnerProduct(tau,grad(beta)) + InnerProduct(sigma,grad(delta)))*dx\n",
    "    a += ( -(sigma*n*n)*(delta*n + dalpha*n) - (tau*n*n)*(beta*n + alpha*n)  )*dx(element_boundary=True)\n",
    "    a += k*G*t*InnerProduct( grad(w)+beta, grad(v)+delta )*dx\n",
    "\n",
    "    f = LinearForm(fes)\n",
    "    f += q*v*dx\n",
    "\n",
    "    gfsol = GridFunction(fes)\n",
    "    gfw, gfbeta, gfsigma, gfalpha = gfsol.components\n",
    "    \n",
    "    a.Assemble()\n",
    "    f.Assemble()\n",
    "    if a.condense:\n",
    "        r = f.vec.CreateVector()\n",
    "        r.data = f.vec - a.mat * gfsol.vec\n",
    "        r.data += a.harmonic_extension_trans * r\n",
    "        gfsol.vec.data += a.mat.Inverse(fes.FreeDofs(True), inverse=\"sparsecholesky\") * r\n",
    "        gfsol.vec.data += a.harmonic_extension * gfsol.vec\n",
    "        gfsol.vec.data += a.inner_solve * r\n",
    "    else:\n",
    "        inv = a.mat.Inverse(fes.FreeDofs())\n",
    "        gfsol.vec.data = inv * f.vec\n",
    "        \n",
    "    \n",
    "    return gfw, gfbeta"
   ]
  },
  {
   "cell_type": "markdown",
   "metadata": {},
   "source": [
    "We make a convergence study where in one case uniform mesh refinement without a boundary layer mesh is considered and one where we place one fourth of the elements in the layer $2t$."
   ]
  },
  {
   "cell_type": "code",
   "execution_count": null,
   "metadata": {},
   "outputs": [],
   "source": [
    "order = 3\n",
    "hs = [0.5**i for i in range(2,7)]\n",
    "err_w = []\n",
    "err_w_bl = []\n",
    "err_b = []\n",
    "err_b_bl = []\n",
    "\n",
    "with TaskManager():\n",
    "    for h in hs:\n",
    "        n = int(L/h)\n",
    "        # without boundary layer mesh\n",
    "        mesh = GenerateMesh(n=int(L/h), bl=False)\n",
    "        gfw, gfbeta = SolveRM_TDNNS(mesh, order=order)\n",
    "        err_w.append(sqrt(Integrate((gfw-w_ex)**2+(Grad(gfw)-grad_w_ex)**2, mesh, order=11))/sqrt(Integrate(w_ex**2+grad_w_ex**2, mesh, order=11)))\n",
    "        err_b.append(sqrt(Integrate((gfbeta-b_ex)**2, mesh, order=11))/sqrt(Integrate(b_ex**2, mesh, order=11)))\n",
    "        # with boundary layer mesh\n",
    "        mesh_bl = GenerateMesh(n=int(L/h), bl=True, layer_width=3*t, num_layer=n/4)\n",
    "        gfw_bl, gfbeta_bl = SolveRM_TDNNS(mesh_bl, order=order)\n",
    "        err_w_bl.append(sqrt(Integrate((gfw_bl-w_ex)**2+(Grad(gfw_bl)-grad_w_ex)**2, mesh, order=11))/sqrt(Integrate(w_ex**2+grad_w_ex**2, mesh, order=11)))\n",
    "        err_b_bl.append(sqrt(Integrate((gfbeta_bl-b_ex)**2, mesh, order=11))/sqrt(Integrate(b_ex**2, mesh, order=11)))\n",
    "\n",
    "    Draw(sqrt( (gfw-w_ex)**2 + (Grad(gfw)-grad_w_ex)**2), mesh)\n",
    "    Draw(sqrt( (gfw_bl-w_ex)**2 + (Grad(gfw_bl)-grad_w_ex)**2), mesh_bl)\n"
   ]
  },
  {
   "cell_type": "code",
   "execution_count": null,
   "metadata": {},
   "outputs": [],
   "source": [
    "import matplotlib.pyplot as plt\n",
    "\n",
    "plt.yscale('log')\n",
    "plt.xscale('log')\n",
    "plt.xlabel(\"h\")\n",
    "plt.ylabel(\"relative error\")\n",
    "plt.plot(hs,err_w,\"-*\", label=\"$\\|w-w_{\\mathrm{ex}}\\|$\" )\n",
    "plt.plot(hs,err_w_bl,\"-x\", label=\"$\\|w_{bl}-w_{\\mathrm{ex}}\\|$\" )\n",
    "plt.plot(hs,err_b,\"-*\", label=\"$\\|b-b_{\\mathrm{ex}}\\|$\" )\n",
    "plt.plot(hs,err_b_bl,\"-x\", label=\"$\\|b_{bl}-b_{\\mathrm{ex}}\\|$\" )\n",
    "    \n",
    "plt.plot(hs,[0.05*h**3 for h in hs],\"--\",color=\"k\", label=\"$\\mathcal{O}(h^3)$\")\n",
    "plt.legend()\n",
    "plt.show()"
   ]
  },
  {
   "cell_type": "markdown",
   "metadata": {},
   "source": [
    "We observe, that the convergence is nearly perfectly when using the boundary layer mesh. Without it, the convergence stagnates until the boundary layer gets resolved. The difference is about two magnitudes for the same amount of elements."
   ]
  },
  {
   "cell_type": "code",
   "execution_count": null,
   "metadata": {},
   "outputs": [],
   "source": []
  }
 ],
 "metadata": {
  "kernelspec": {
   "display_name": "Python 3",
   "language": "python",
   "name": "python3"
  },
  "language_info": {
   "codemirror_mode": {
    "name": "ipython",
    "version": 3
   },
   "file_extension": ".py",
   "mimetype": "text/x-python",
   "name": "python",
   "nbconvert_exporter": "python",
   "pygments_lexer": "ipython3",
   "version": "3.13.1"
  }
 },
 "nbformat": 4,
 "nbformat_minor": 2
}
