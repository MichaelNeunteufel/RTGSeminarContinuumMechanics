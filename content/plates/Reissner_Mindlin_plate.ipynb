{
 "cells": [
  {
   "cell_type": "markdown",
   "metadata": {},
   "source": [
    "# Reissner-Mindlin plate\n",
    "For thin three-dimensional plates, a dimension reduction is performed, transforming the 3D linear elasticity equations to equations on the two-dimensional surface $\\Omega\\subset\\mathbb{R}^2$. The Reissner-Mindlin plate is a commonly used model; the vertical deflection $w$ and the linearized rotation vector $\\beta$ are the unknowns. The total energy consists of the bending and shearing energy \n",
    "\\begin{align*}\n",
    "\\mathcal{W}_{\\mathrm{RM}}(w,\\beta) = \\frac{1}{2}\\| \\varepsilon(\\beta) \\|_{\\mathbb{C},L_2}^2 + \\frac{\\kappa\\,G}{2t^2} \\| \\nabla w - \\beta \\|^2_{L_2} - \\int_{\\Omega}f\\cdot w\\,dx,\n",
    "\\end{align*}\n",
    "where $t$ denotes the thickness of the plate, $\\varepsilon(\\cdot)$ is the symmetric part of the gradient and the elasticity tensor is $\\mathbb{C}\\varepsilon=\\frac{E}{12(1-\\nu^2)}((1-\\nu)\\varepsilon+\\nu\\,\\mathrm{tr}(\\varepsilon)I_{2\\times 2})$ (with $E$ Young's modulus, $\\nu$ Poisson ratio). Further, $G= \\frac{E}{2(1+\\nu)}$ and $\\kappa=5/6$ denote the shearing modulus and shear correction factor.\n",
    "\n",
    "We are interested in positive, but small thicknesses $t>0$. Therefore, the shear energy acts as a penalty enforcing the equality $\\beta = \\nabla w$. If there are not enough finite element functions such that the discrete so-called Kirchhoff constraint can be satisfied, we observe bad results known as shear locking."
   ]
  },
  {
   "cell_type": "markdown",
   "metadata": {},
   "source": [
    "To avoid shear locking when the thickness $t$ becomes small several methods. We discuss two approaches:\n",
    "\n",
    "* Mixed Interpolation of Tensorial Components (MITC)\n",
    "\n",
    "* Rotations in Nèdèlec space using the Tangential-Displacement Normal-Normal-Stress method (TDNNS)"
   ]
  },
  {
   "cell_type": "markdown",
   "metadata": {},
   "source": [
    "## Mixed Interpolation of Tensorial Components (MITC)\n",
    "Direct approach where shear locking may occur\n",
    "$$\\frac{t^3}{12}\\int_{\\Omega} 2\\mu\\, \\varepsilon(\\beta):\\varepsilon(\\delta\\beta) + \\lambda\\, \\text{div}(\\beta)\\text{div}(\\delta\\beta)\\,dx + t\\kappa\\,G\\int_{\\Omega}(\\nabla u-\\beta)\\cdot(\\nabla\\delta u-\\delta\\beta)\\,dx = \\int_{\\Omega} f\\,\\delta u\\,dx,\\qquad \\forall (\\delta u,\\delta\\beta). $$\n",
    "\n",
    "Adding interpolation (reduction) operator $\\boldsymbol{R}:[H^1_0(\\Omega)]^2\\to H(\\text{curl})$. Spaces are chosen according to [<a href=\"http://math.aalto.fi/~rstenber/Publications/M3AS91.pdf\">Brezzi, Fortin and Stenberg. Error analysis of mixed-interpolated elements for Reissner-Mindlin plates. <i>Mathematical Models and Methods in Applied Sciences 1</i>, 2\n",
    "  (1991), 125-151.</a>]\n",
    "$$\\frac{t^3}{12}\\int_{\\Omega} 2\\mu\\, \\varepsilon(\\beta):\\varepsilon(\\delta\\beta) + \\lambda\\, \\text{div}(\\beta)\\text{div}(\\delta\\beta)\\,dx + t\\kappa\\,G\\int_{\\Omega}\\boldsymbol{R}(\\nabla u-\\beta)\\cdot\\boldsymbol{R}(\\nabla\\delta u-\\delta\\beta)\\,dx = \\int_{\\Omega} f\\,\\delta u\\,dx,\\qquad \\forall (\\delta u,\\delta\\beta). $$"
   ]
  },
  {
   "cell_type": "code",
   "execution_count": null,
   "metadata": {},
   "outputs": [],
   "source": [
    "from ngsolve import *\n",
    "from netgen.occ import *\n",
    "from ngsolve.webgui import Draw"
   ]
  },
  {
   "cell_type": "markdown",
   "metadata": {},
   "source": [
    "Set up benchmark example with exact solution. Young modulus $E$, Poisson ratio $\\nu$, and shear correction factor $\\kappa$."
   ]
  },
  {
   "cell_type": "code",
   "execution_count": null,
   "metadata": {},
   "outputs": [],
   "source": [
    "E, nu, k = 10.92, 0.3, 5 / 6\n",
    "G = E / (2 * (1 + nu))\n",
    "# force\n",
    "fz = -1\n",
    "\n",
    "def CMat(mat, E, nu):\n",
    "    return E / (12 * (1 - nu**2)) * ((1 - nu) * mat + nu * Trace(mat) * Id(2))\n",
    "\n",
    "\n",
    "def CMatInv(mat, E, nu):\n",
    "    return  12*(1 - nu**2) / E * (1 / (1 - nu) * mat - nu / (1 - nu**2) * Trace(mat) * Id(2))"
   ]
  },
  {
   "cell_type": "markdown",
   "metadata": {},
   "source": [
    "Due to symmetry we only need to mesh one quarter of the circle."
   ]
  },
  {
   "cell_type": "code",
   "execution_count": null,
   "metadata": {},
   "outputs": [],
   "source": [
    "R = 5\n",
    "\n",
    "def GenerateMesh(order, maxh=1):\n",
    "    circ = Circle((0, 0), R).Face()\n",
    "    circ.edges.name = \"circ\"\n",
    "    shape = (\n",
    "        circ\n",
    "        - MoveTo(-R, -R).Rectangle(R, 2 * R).Face()\n",
    "        - MoveTo(-R, -R).Rectangle(2 * R, R).Face()\n",
    "    )\n",
    "    shape.edges.Min(X).name = \"left\"\n",
    "    shape.edges.Min(Y).name = \"bottom\"\n",
    "    return Mesh(OCCGeometry(shape, dim=2).GenerateMesh(maxh=maxh * R / 3)).Curve(order)\n",
    "\n",
    "\n",
    "mesh = GenerateMesh(2)\n",
    "Draw(mesh);"
   ]
  },
  {
   "cell_type": "markdown",
   "metadata": {},
   "source": [
    "Depending on the boundary conditions (simply supported or clamped) we have different exact solutions for the vertical displacement. "
   ]
  },
  {
   "cell_type": "code",
   "execution_count": null,
   "metadata": {},
   "outputs": [],
   "source": [
    "def ExactSolution(t=0.1, clamped=True, draw=False):\n",
    "    r = sqrt(x**2 + y**2)\n",
    "    xi = r / R\n",
    "    Db = E * t**3 / (12 * (1 - nu**2))\n",
    "\n",
    "    if clamped:\n",
    "        # exact solution for clamped bc\n",
    "        w_ex = fz*t**3*R**4/(64 * Db)*(1 - xi**2)*((1 - xi**2) + 8*(t / R)**2/(3*k*(1 - nu)))\n",
    "    else:\n",
    "        # exact solution for simply supported bc\n",
    "        w_ex = fz*t**3*R**4/(64*Db)*(1-xi**2)*((6+2*nu)/(1+nu)-(1+xi**2)+8*(t/R)**2/(3*k*(1-nu)))\n",
    "    if draw:\n",
    "        Draw(w_ex, mesh, \"w_s_ex\", deformation=True)\n",
    "    return w_ex\n",
    "\n",
    "\n",
    "ExactSolution(t=0.02, clamped=True, draw=True);"
   ]
  },
  {
   "cell_type": "markdown",
   "metadata": {},
   "source": [
    "Use Lagrangian finite elements for rotations and the vertical deflection together with additional internal bubbles for order <4 for the rotations.\n",
    "\n",
    "Adding interpolation (reduction) operator $\\boldsymbol{R}:[H^1_0(\\Omega)]^2\\to H(\\text{curl})$. Spaces are chosen according to [<a href=\"http://math.aalto.fi/~rstenber/Publications/M3AS91.pdf\">Brezzi, Fortin and Stenberg. Error analysis of mixed-interpolated elements for Reissner-Mindlin plates. <i>Mathematical Models and Methods in Applied Sciences 1</i>, 2\n",
    "  (1991), 125-151.</a>]\n",
    "  \n",
    "Find $(w,\\beta)$ such that\n",
    "$$\\int_{\\Omega} \\mathbb{C}\\varepsilon(\\beta):\\varepsilon(\\delta) \\,dx + \\frac{\\kappa\\,G}{t^2}\\int_{\\Omega}\\boldsymbol{R}(\\nabla w-\\beta)\\cdot\\boldsymbol{R}(\\nabla v-\\delta)\\,dx = \\int_{\\Omega} f\\,v\\,dx,\\qquad \\forall (v,\\delta). $$"
   ]
  },
  {
   "cell_type": "code",
   "execution_count": null,
   "metadata": {},
   "outputs": [],
   "source": [
    "def Material(mat):\n",
    "    return D * ((1 - nu) * mat + nu * Trace(mat) * Id(2))\n",
    "\n",
    "\n",
    "def SolveRM(mesh, order=1, clamped=True, mitc=False, draw=False):\n",
    "    if clamped:\n",
    "        fesB = VectorH1(mesh, order=order, dirichletx=\"circ|left\", dirichlety=\"circ|bottom\")\n",
    "    else:\n",
    "        fesB = VectorH1(mesh, order=order, dirichletx=\"left\", dirichlety=\"bottom\")\n",
    "    fesB.SetOrder(TRIG, order + 1 if order < 4 and order > 1 and mitc else order)\n",
    "    fesB.Update()\n",
    "    fesW = H1(mesh, order=order, dirichlet=\"circ\")\n",
    "    fes = fesB * fesW\n",
    "    (beta, w), (delta, v) = fes.TnT()\n",
    "\n",
    "    Gamma = HCurl(mesh, order=order, type1=True)\n",
    "\n",
    "    a = BilinearForm(fes)\n",
    "    a += InnerProduct(CMat(Sym(grad(beta)), E, nu), Sym(grad(delta)))*dx\n",
    "    if mitc:\n",
    "        if order > 1:\n",
    "            a += k*G/t**2*Interpolate(grad(w)-beta, Gamma)*Interpolate(grad(v)-delta, Gamma)*dx\n",
    "        else:\n",
    "            # lowest order needs a stabilization technique\n",
    "            # the stability parameter->0 for h->0\n",
    "            h = specialcf.mesh_size\n",
    "            a += k*G/(t**2+h**2)*Interpolate(grad(w)-beta,Gamma)*Interpolate(grad(v)-delta,Gamma)*dx\n",
    "    else:\n",
    "        a += k*G/t**2*(grad(w)-beta)*(grad(v)-delta)*dx\n",
    "\n",
    "    f = LinearForm(fes)\n",
    "    f += fz * v * dx\n",
    "\n",
    "    gfsol = GridFunction(fes)\n",
    "    gfbeta, gfw = gfsol.components\n",
    "\n",
    "    with TaskManager():\n",
    "        a.Assemble()\n",
    "        f.Assemble()\n",
    "        inv = a.mat.Inverse(fes.FreeDofs(), inverse=\"sparsecholesky\")\n",
    "        gfsol.vec.data = inv * f.vec\n",
    "    if draw:\n",
    "        Draw(gfw, mesh, \"w\")\n",
    "        #Draw(Norm(Skew(Grad(gfbeta))), mesh)\n",
    "    return gfw, fes"
   ]
  },
  {
   "cell_type": "code",
   "execution_count": null,
   "metadata": {},
   "outputs": [],
   "source": [
    "results = []\n",
    "clamped = False\n",
    "ts = [1, 0.1, 0.01, 0.001]\n",
    "order = 1  # 1,2\n",
    "\n",
    "for t in ts:\n",
    "    results.append([])\n",
    "    w_ex = ExactSolution(t=t, clamped=clamped)\n",
    "    norm_w = sqrt(Integrate(w_ex * w_ex, mesh))\n",
    "    # Draw(w_ex, mesh)\n",
    "    for i in range(5):\n",
    "        mesh = GenerateMesh(order=order, maxh=0.5**i)\n",
    "        gfw, fes = SolveRM(mesh, order=order, clamped=clamped, mitc=False, draw=False)\n",
    "\n",
    "        err = sqrt(Integrate((gfw - w_ex) * (gfw - w_ex), mesh)) / norm_w\n",
    "        results[-1].append((fes.ndof, err))"
   ]
  },
  {
   "cell_type": "code",
   "execution_count": null,
   "metadata": {},
   "outputs": [],
   "source": [
    "import matplotlib.pyplot as plt\n",
    "\n",
    "plt.yscale(\"log\")\n",
    "plt.xscale(\"log\")\n",
    "plt.xlabel(\"ndof\")\n",
    "plt.ylabel(\"relative error\")\n",
    "for i in range(len(results)):\n",
    "    ndof, err = zip(*results[i])\n",
    "    plt.plot(ndof, err, \"-*\", label=\"t=\" + str(ts[i]))\n",
    "plt.legend()\n",
    "plt.show()"
   ]
  },
  {
   "cell_type": "markdown",
   "metadata": {},
   "source": [
    "## TDNNS method"
   ]
  },
  {
   "cell_type": "markdown",
   "metadata": {},
   "source": [
    "Next, we apply the TDNNS method to discretize the bending term $\\| \\varepsilon(\\beta) \\|_{\\mathbb{C},L_2}^2$ as in [<a href=\"https://link.springer.com/article/10.1007/s00211-017-0883-9\">Pechstein and Schöberl. The TDNNS method for Reissner-Mindlin plates. <i> Numerische Mathematik 137</i>, 3 (2017), 713-740</a>]. Instead of using Lagrangian elements together with an interpolation operator we we directly discretize the rotations $\\beta$ in the Nedelec space. Thus, all discrete gradients $\\nabla w$ are in the space of rotations, and we don't have the locking problem. By introducing the linearized bending moment $\\sigma=\\mathbb{C}\\varepsilon(\\beta)$ we obtain the following formulation.\n",
    "<center>\n",
    "<table><tr>\n",
    "<td> <img src=\"hdivdiv_0_trig_2.png\" width=\"150\"/> </td>\n",
    "<td> <img src=\"hcurl_type1_0_trig_1.png\" width=\"120\"/> </td>\n",
    "<td> <img src=\"h1_p1_trig.png\" width=\"120\"/> </td>\n",
    "</tr></table>\n",
    "</center>\n",
    "\n",
    "Find: $(\\sigma,\\beta, w) \\in H(\\mathrm{div} \\mathrm{div})\\times H(\\mathrm{curl})\\times H^1(\\Omega)$ such that for all $(\\tau,\\delta, v) \\in H(\\mathrm{div} \\mathrm{div})\\times H(\\mathrm{curl})\\times H^1(\\Omega)$\n",
    "\\begin{align*}\n",
    "\\begin{array}{ccccll}\n",
    "-\\int_{\\Omega} \\mathbb{C}^{-1} \\sigma : \\tau\\,dx & - & \\left< \\mathrm{div} \\tau, \\beta \\right> & = & 0 \\\\\n",
    "-\\left< \\mathrm{div} \\sigma, \\delta \\right> & + & \\frac{\\kappa\\, G}{t^2} \\int_{\\Omega} (\\nabla w - \\beta) (\\nabla v - \\delta)\\,dx & = & \\int_{\\Omega} f v\\,dx,\n",
    "\\end{array}\n",
    "\\end{align*}\n",
    "where\n",
    "\\begin{align*}\n",
    "\\langle \\mathrm{div} \\boldsymbol{\\sigma}, \\beta\\rangle &= \\sum_{T\\in\\mathcal{T}}\\int_T\\mathrm{div}\\boldsymbol{\\sigma}\\cdot\\beta\\,dx -\\int_{\\partial T}\\boldsymbol{\\sigma}_{nt}\\beta_t\\,ds\\\\\n",
    "&=-\\sum_{T\\in\\mathcal{T}}\\int_T\\boldsymbol{\\sigma}:\\nabla \\beta\\,dx +\\int_{\\partial T}\\boldsymbol{\\sigma}_{nn}\\beta_n\\,ds =-\\langle \\boldsymbol{\\sigma}, \\nabla \\beta\\rangle\n",
    "\\end{align*}\n",
    "and the inverted elasticity tensor (complience  tensor) $\\mathbb{C}^{-1}\\varepsilon = \\frac{12(1-\\nu^2)}{Et^3}\\big(\\frac{1}{1-\\nu}\\varepsilon-\\frac{\\nu}{1-\\nu^2}\\mathrm{tr}(\\varepsilon)I_{2\\times2}\\big)$. Here $\\partial T$ denotes the element-boundary (edges) of $T$, $n$ the normal vector and $t$ the tangential vector on $\\partial T$. With e.g. $\\sigma_{nt}:= t^\\top\\sigma n$ we denote the normal tangential component of $\\sigma$."
   ]
  },
  {
   "cell_type": "code",
   "execution_count": null,
   "metadata": {},
   "outputs": [],
   "source": [
    "def MaterialInv(mat):\n",
    "    return 1 / D * (1 / (1 - nu) * mat - nu / (1 - nu**2) * Trace(mat) * Id(2))\n",
    "\n",
    "\n",
    "def SolveRM_TDNNS(mesh, order=1, clamped=True, draw=False):\n",
    "    if clamped:\n",
    "        fesB = HCurl(mesh, order=order - 1, dirichlet=\"circ\")\n",
    "        fesS = HDivDiv(mesh, order=order - 1, dirichlet=\"\")\n",
    "    else:\n",
    "        fesB = HCurl(mesh, order=order - 1)\n",
    "        fesS = HDivDiv(mesh, order=order - 1, dirichlet=\"circ\")\n",
    "    fesW = H1(mesh, order=order, dirichlet=\"circ\")\n",
    "\n",
    "    fes = fesW * fesB * fesS\n",
    "    (w, beta, sigma), (v, delta, tau) = fes.TnT()\n",
    "\n",
    "    n = specialcf.normal(2)\n",
    "\n",
    "    a = BilinearForm(fes, symmetric=True)\n",
    "    a += (-InnerProduct(CMatInv(sigma, E, nu), tau) + InnerProduct(tau, grad(beta)) \\\n",
    "        + InnerProduct(sigma, grad(delta)))*dx\n",
    "    a += (-sigma[n,n]*(delta*n) - tau[n,n]*(beta*n))*dx(element_boundary=True)\n",
    "    a += k*G/t**2*(grad(w) - beta)*(grad(v) - delta)*dx\n",
    "\n",
    "    f = LinearForm(fes)\n",
    "    f += fz * v * dx\n",
    "\n",
    "    gfsol = GridFunction(fes)\n",
    "    gfw, gfbeta, gfsigma = gfsol.components\n",
    "\n",
    "    with TaskManager():\n",
    "        a.Assemble()\n",
    "        f.Assemble()\n",
    "        inv = a.mat.Inverse(fes.FreeDofs(), inverse=\"sparsecholesky\")\n",
    "        gfsol.vec.data = inv * f.vec\n",
    "    if draw:\n",
    "        Draw(gfw, mesh, \"w\")\n",
    "\n",
    "    return gfw, fes"
   ]
  },
  {
   "cell_type": "code",
   "execution_count": null,
   "metadata": {},
   "outputs": [],
   "source": [
    "results_tdnns = []\n",
    "clamped = True\n",
    "\n",
    "order = 1\n",
    "ts = [1, 0.1, 0.01, 0.001]\n",
    "for t in ts:\n",
    "    results_tdnns.append([])\n",
    "    w_ex = ExactSolution(t=t, clamped=clamped)\n",
    "    norm_w = sqrt(Integrate(w_ex * w_ex, mesh))\n",
    "\n",
    "    for i in range(5):\n",
    "        mesh = GenerateMesh(order=order, maxh=0.5**i)\n",
    "        gfw, fes = SolveRM_TDNNS(mesh, order=order, clamped=clamped, draw=False)\n",
    "\n",
    "        err = sqrt(Integrate((gfw - w_ex) * (gfw - w_ex), mesh)) / norm_w\n",
    "        results_tdnns[-1].append((fes.ndof, err))"
   ]
  },
  {
   "cell_type": "code",
   "execution_count": null,
   "metadata": {},
   "outputs": [],
   "source": [
    "import matplotlib.pyplot as plt\n",
    "\n",
    "plt.yscale(\"log\")\n",
    "plt.xscale(\"log\")\n",
    "plt.xlabel(\"ndof\")\n",
    "plt.ylabel(\"relative error\")\n",
    "for i in range(len(results_tdnns)):\n",
    "    ndof, err = zip(*results_tdnns[i])\n",
    "    plt.plot(ndof, err, \"-*\", label=\"t=\" + str(ts[i]))\n",
    "plt.legend()\n",
    "plt.show()"
   ]
  },
  {
   "cell_type": "markdown",
   "metadata": {},
   "source": [
    "In the limit $t \\to 0$ the shear energy term can be understood as a penalty formulation enforcing the Kirchhoff-Love assumption\n",
    "\\begin{align*}\n",
    "\\beta = \\nabla w.\n",
    "\\end{align*}\n",
    "Thus, in the limit case, the total energy simplifies by eliminating the rotation $\\beta$ to\n",
    "\\begin{align*}\n",
    "\\mathcal{W}_{\\mathrm{KL}}(w)=\\frac{1}{2}\\| \\varepsilon(\\nabla w) \\|_{\\mathbb{C},L_2}^2-\\int_{\\Omega}f\\,w,\n",
    "\\end{align*}\n",
    "which is the Kirchhoff-Love plate model."
   ]
  },
  {
   "cell_type": "markdown",
   "metadata": {},
   "source": [
    "Drawback of the TDNNS formulation: It yields a mixed saddle point problem. We can apply hybridization techniques by breaking the normal-normal continuity of $\\sigma$ and reinforcing it by an additional Lagrange multiplier $\\alpha$. A symmetric positive definite system is regained after performing static condensation and eliminating $\\sigma$ at the element level.\n",
    "\n",
    "Exercise:\n",
    "* Implement hybridization for TDNNS"
   ]
  },
  {
   "cell_type": "code",
   "execution_count": null,
   "metadata": {},
   "outputs": [],
   "source": []
  }
 ],
 "metadata": {
  "kernelspec": {
   "display_name": "Python 3",
   "language": "python",
   "name": "python3"
  },
  "language_info": {
   "codemirror_mode": {
    "name": "ipython",
    "version": 3
   },
   "file_extension": ".py",
   "mimetype": "text/x-python",
   "name": "python",
   "nbconvert_exporter": "python",
   "pygments_lexer": "ipython3",
   "version": "3.13.1"
  }
 },
 "nbformat": 4,
 "nbformat_minor": 2
}
