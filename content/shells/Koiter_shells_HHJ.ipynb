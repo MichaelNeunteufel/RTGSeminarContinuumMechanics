{
 "cells": [
  {
   "cell_type": "markdown",
   "metadata": {},
   "source": [
    "# Koiter Shells via Hellan-Herrmann-Johnson (HHJ) method\n",
    "We start with the following three-field formulation [<a href=\"https://doi.org/10.1016/j.compstruc.2024.107543\">Neunteufel, Schöberl. The Hellan-Herrmann-Johnson and TDNNS method for linear and nonlinear shells, Computers & Structures, (2024).</a>] to incorporate the distributional extrinsic curvature difference of the initial and deformed shell configuration: \n",
    "\n",
    "Find $(u,\\boldsymbol{\\kappa}^{\\mathrm{diff}},\\boldsymbol{\\sigma})\\in V_h^k\\times M_h^{k-1,\\mathrm{dc}}\\times M_h^{k-1}$ for the Lagrangian \n",
    "\\begin{align*}\n",
    "\t\t\\mathcal{L}(u,\\boldsymbol{\\kappa}^{\\mathrm{diff}},\\boldsymbol{\\sigma})&=\\frac{t}{2}\\|\\boldsymbol{E}(u)\\|_{\\mathbb{M}}^2+\\frac{t^3}{12}\\|\\boldsymbol{\\kappa}^{\\mathrm{diff}}\\|_{\\mathbb{M}}^2-\\langle f,u\\rangle+\\sum_{T\\in\\mathcal{T}_h}\\int_T\\big(\\boldsymbol{\\kappa}^{\\mathrm{diff}}-(\\boldsymbol{F}^T\\nabla_S(\\nu\\circ\\phi)-\\nabla_S\\hat{\\nu}) \\big):\\boldsymbol{\\sigma}\\,ds\n",
    "\t\t\\\\\n",
    "\t\t&\\qquad+\\sum_{E\\in\\mathcal{E}_h}\\int_{E}(\\sphericalangle(\\nu_L\\circ\\phi,\\nu_R\\circ\\phi)-\\sphericalangle(\\hat{\\nu}_L,\\hat{\\nu}_R))\\boldsymbol{\\sigma}_{\\hat{\\mu}\\hat{\\mu}}\\,dl.\n",
    "\t\\end{align*}\n",
    "    Here, $\\boldsymbol{E}=\\frac{1}{2}(\\boldsymbol{F}^\\top\\boldsymbol{F}-\\boldsymbol{P})= \\frac{1}{2}(\\nabla_S u^\\top \\nabla_S u + \\nabla_S u^\\top\\boldsymbol{P} + \\boldsymbol{P}\\nabla_S u)$ denotes the Green-strain tensor restricting on the tangent space measuring the membrane energy of the shell, $t$ the thickness, and $\\mathbb{M}$ the material tensor. $\\nu$ and $\\hat{\\nu}$ are the normal vectors with respect to the deformed and initial configuration, respectively. $\\hat{\\mu}$ is the co-normal (element-normal) vector.\n",
    "    \n",
    "<center>\n",
    "<img src=\"nv_conv_tang_trig.png\" width=\"200\"> \n",
    "</center>\n",
    "\n",
    "With this formulation we circumvented the fourth-order problem by means of a mixed one and are able to compute the bending energy also on affine triangulations thanks to the edge terms measuring the angle difference between the initial and deformed configuration.\n",
    "\n",
    "For an invertible material law, we can eliminate $\\boldsymbol{\\kappa}^{\\mathrm{diff}}$ leading to a mixed saddle point problem in the displacement $u$ and moment tensor $\\boldsymbol{\\sigma}$. The term $\\boldsymbol{F}^T\\nabla_S(\\nu\\circ\\phi)-\\nabla_S\\hat{\\nu}$ can be rewritten and simplified. The following formulation can be seen as an extension of the Hellan-Herrmann-Johnson method from linear plates to nonlinear shells [<a href=\"https://doi.org/10.1016/j.compstruc.2019.106109\">Neunteufel, Schöberl: The Hellan-Herrmann-Johnson method for nonlinear shell, <i>Comput. Struct.</i> (2019).</a>].\n",
    "\n",
    "Find $(u,\\boldsymbol{\\sigma})\\in V_h^k\\times M_h^{k-1}$ for the Lagrangian \n",
    "\\begin{align*}\n",
    "\\mathcal{L}(u,\\sigma) &=\\frac{t}{2}\\|\\boldsymbol{E}(u)\\|^2_{\\mathbb{M}} -\\frac{6}{t^3}\\|\\boldsymbol{\\sigma}\\|^2_{\\mathbb{M}^{-1}} +  \\sum_{T\\in\\mathcal{T}_h}\\int_{T} \\boldsymbol{\\sigma}:(\\boldsymbol{H}_{\\nu\\circ\\phi}+(1-\\hat{\\nu}\\cdot\\nu\\circ\\phi)\\nabla_S\\hat{\\nu})\\,ds \\\\\n",
    "&\\qquad+ \\sum_{E\\in\\mathcal{E}_h}\\int_E(\\sphericalangle(\\nu_L\\circ\\phi,\\nu_R\\circ\\phi)-\\sphericalangle(\\hat{\\nu_L},\\hat{\\nu_R}))\\boldsymbol{\\sigma}_{\\hat{\\mu}\\hat{\\mu}}\\,dl - \\int_{\\mathcal{S}}f\\cdot u\\,ds,\n",
    "\\end{align*}\n",
    "where $\\boldsymbol{H}_{\\nu\\circ\\phi}=\\sum_{i=1}^3(\\nabla_S^2u_i)\\nu_i\\circ\\phi$, and $\\nabla^2_S u_i=\\boldsymbol{P}\\nabla_S(\\nabla_S u_i)$ denotes the Riemann surface Hessian.\n"
   ]
  },
  {
   "cell_type": "markdown",
   "metadata": {},
   "source": [
    "### Cylindrical shell under volume load\n",
    "As a first example we consider a cylindrical shell, which is clamped at the left side and free at the right side, and applying a volume force."
   ]
  },
  {
   "cell_type": "code",
   "execution_count": null,
   "metadata": {},
   "outputs": [],
   "source": [
    "from netgen.occ import *\n",
    "from ngsolve import *\n",
    "from ngsolve.webgui import Draw\n",
    "\n",
    "order = 3\n",
    "\n",
    "cyl = Cylinder((0, 0, 0), (1, 0, 0), 0.4, 1).faces[0]\n",
    "cyl.edges.Min(X).name = \"left\"\n",
    "cyl.edges.Max(X).name = \"right\"\n",
    "mesh = Mesh(OCCGeometry(cyl).GenerateMesh(maxh=0.15)).Curve(order)\n",
    "Draw(mesh)\n",
    "\n",
    "# Young modulus and Poisson's ratio\n",
    "E, nu = 2e1, 0.1\n",
    "thickness = 0.02"
   ]
  },
  {
   "cell_type": "markdown",
   "metadata": {},
   "source": [
    "At the clamped boundary we need to fix the displacement by homogeneous Dirichlet boundary conditions. As usual for mixed formulations the essential and natural boundary conditions swap for the stress field. Therefore, we have to set the essential boundary condition $\\sigma_{\\hat\\mu\\hat\\mu}$ at the free boundary. $\\sigma_{\\hat\\mu\\hat\\mu}=0$ has the physical meaning that no moment-force is applied at this boundary."
   ]
  },
  {
   "cell_type": "code",
   "execution_count": null,
   "metadata": {},
   "outputs": [],
   "source": [
    "fes1 = HDivDivSurface(mesh, order=order - 1, dirichlet_bbnd=\"right\")\n",
    "fes2 = VectorH1(mesh, order=order, dirichlet_bbnd=\"left\")\n",
    "fes = fes2 * fes1\n",
    "u, sigma = fes.TrialFunction()\n",
    "# need the trace as we are on a surface\n",
    "sigma = sigma.Trace()\n",
    "\n",
    "solution = GridFunction(fes, name=\"solution\")"
   ]
  },
  {
   "cell_type": "markdown",
   "metadata": {},
   "source": [
    "We define the outer normal vector $\\hat\\nu$, tangential vector $\\hat t$ and the co-normal vector $\\hat\\mu = \\hat\\nu\\times \\hat t$ at the initial configuration.\n",
    "\n",
    "<center>\n",
    "<img src=\"nv_conv_tang_trig.png\" width=\"200\"> \n",
    "</center>\n",
    "\n",
    "Then the projection operator onto the tangent space, deformation gradient, Cauchy-Green, and Green tensors $\\boldsymbol{P}$, $\\boldsymbol{F}$, $\\boldsymbol{C}$, and $\\boldsymbol{E}$ are defined.\n",
    "\n",
    "Finally, the deformed normal and tangential vectors are declared, which depend on the unknown displacement field $u$."
   ]
  },
  {
   "cell_type": "code",
   "execution_count": null,
   "metadata": {},
   "outputs": [],
   "source": [
    "nsurf = specialcf.normal(mesh.dim)\n",
    "t = specialcf.tangential(mesh.dim)\n",
    "nel = Cross(nsurf, t)\n",
    "\n",
    "Ptau = Id(mesh.dim) - OuterProduct(nsurf, nsurf)\n",
    "Ftau = Grad(u).Trace() + Ptau\n",
    "Ctau = Ftau.trans * Ftau\n",
    "Etautau = 0.5 * (Ctau - Ptau)\n",
    "\n",
    "# Normal vector transforms with cofactor matrix, edge tangent vector with push forward F\n",
    "nphys = Normalize(Cof(Ftau) * nsurf)\n",
    "tphys = Normalize(Ftau * t)\n",
    "nelphys = Cross(nphys, tphys)\n",
    "\n",
    "gradn = specialcf.Weingarten(3)  # Grad(nsurf)\n",
    "Hn = CF((u.Operator(\"hesseboundary\").trans * nphys), dims=(3, 3))"
   ]
  },
  {
   "cell_type": "markdown",
   "metadata": {},
   "source": [
    "For the angle computation of the bending energy we use an averaged normal vector avoiding the necessity of using information of two neighbored element at once (+ a more stable formulation using the co-normal vector instead of the outer normal vector)\n",
    "\n",
    "<center>\n",
    "<img src=\"nonsmooth_av_nv_el_nv.png\" width=\"150\"> \n",
    "</center>\n",
    "\n",
    "\\begin{align*}\n",
    "\\sum_{E\\in\\mathcal{E}_h}\\int_E(\\sphericalangle(\\nu_L\\circ\\phi,\\nu_R\\circ\\phi)-\\sphericalangle(\\hat{\\nu}_L,\\hat{\\nu}_R))\\boldsymbol{\\sigma}_{\\hat{\\mu}\\hat{\\mu}}\\,dl &= \\sum_{T\\in\\mathcal{T}_h}\\int_{\\partial T}(\\sphericalangle(\\nu\\circ\\phi,\\{\\!\\{\\nu\\circ\\phi\\}\\!\\})-\\sphericalangle(\\hat{\\nu},\\{\\!\\{\\hat{\\nu}\\}\\!\\}))\\boldsymbol{\\sigma}_{\\hat{\\mu}\\hat{\\mu}}\\,dl\\\\\n",
    "&= \\sum_{T\\in\\mathcal{T}_h}\\int_{\\partial T}(\\sphericalangle(\\hat{\\mu},\\{\\!\\{\\hat{\\nu}\\}\\!\\})-\\sphericalangle(\\mu\\circ\\phi,\\{\\!\\{\\nu\\circ\\phi\\}\\!\\}))\\boldsymbol{\\sigma}_{\\hat{\\mu}\\hat{\\mu}}\\,dl\\\\\n",
    "&= \\sum_{T\\in\\mathcal{T}_h}\\int_{\\partial T}(\\sphericalangle(\\hat{\\mu},\\{\\!\\{\\hat{\\nu}\\}\\!\\})-\\sphericalangle(\\mu\\circ\\phi,P^{\\perp}_{\\tau\\circ\\phi}(\\{\\!\\{\\nu^n\\}\\!\\})))\\boldsymbol{\\sigma}_{\\hat{\\mu}\\hat{\\mu}}\\,dl,\n",
    "\\end{align*}\n",
    "where \n",
    "$$\n",
    "P^{\\perp}_{\\tau\\circ\\phi}(v):= \\frac{1}{\\|\\boldsymbol{P}^{\\perp}_{\\tau\\circ\\phi}v\\|}\\boldsymbol{P}^{\\perp}_{\\tau\\circ\\phi}v,\\qquad \\boldsymbol{P}^{\\perp}_{\\tau\\circ\\phi}:= \\boldsymbol{I}-\\tau\\circ\\phi\\otimes\\tau\\circ\\phi\n",
    "$$\n",
    "denotes the (nonlinear) normalized projection to the plane perpendicular to the deformed edge tangential vector for measuring the correct angle."
   ]
  },
  {
   "cell_type": "code",
   "execution_count": null,
   "metadata": {},
   "outputs": [],
   "source": [
    "gfclamped = GridFunction(FacetSurface(mesh, order=0))\n",
    "gfclamped.Set(1, definedon=mesh.BBoundaries(\"left\"))\n",
    "\n",
    "fesVF = VectorFacetSurface(mesh, order=order)\n",
    "averednv = GridFunction(fesVF)\n",
    "averednv_start = GridFunction(fesVF)\n",
    "\n",
    "cfnphys = Normalize(Cof(Ptau + Grad(solution.components[0])) * nsurf)\n",
    "\n",
    "cfnR = Normalize(averednv_start)\n",
    "pnaverage = Normalize(averednv - (tphys * averednv) * tphys)\n",
    "\n",
    "averednv.Set(nsurf, dual=True, definedon=mesh.Boundaries(\".*\"))\n",
    "averednv_start.Set(nsurf, dual=True, definedon=mesh.Boundaries(\".*\"))"
   ]
  },
  {
   "cell_type": "markdown",
   "metadata": {},
   "source": [
    "Define the material norms $\\|\\cdot\\|_{\\mathbb{M}}^2$ and $\\|\\cdot\\|_{\\mathbb{M}^{-1}}^2$ with Young modulus $\\bar{E}$ and Poisson's ration $\\bar{\\nu}$\n",
    "\\begin{align*}\n",
    "\\mathbb{M} \\boldsymbol{E} = \\frac{\\bar E}{1-\\bar \\nu^2}\\big((1-\\bar \\nu)\\boldsymbol{E}+\\bar \\nu\\,\\mathrm{tr}(\\boldsymbol{E})\\boldsymbol{P}\\big)\n",
    "\\end{align*}"
   ]
  },
  {
   "cell_type": "code",
   "execution_count": null,
   "metadata": {},
   "outputs": [],
   "source": [
    "def MaterialNorm(mat, E, nu):\n",
    "    return E / (1 - nu**2) * ((1 - nu) * InnerProduct(mat, mat) + nu * Trace(mat) ** 2)\n",
    "\n",
    "\n",
    "def MaterialNormInv(mat, E, nu):\n",
    "    return (1 + nu) / E * (InnerProduct(mat, mat) - nu / (nu + 1) * Trace(mat) ** 2)"
   ]
  },
  {
   "cell_type": "markdown",
   "metadata": {},
   "source": [
    "Define the bilinear form for the problem including membrane and bending energy\n",
    "\\begin{align*}\n",
    "\\mathcal{L}(u,\\sigma) &=\\frac{t}{2}\\|\\boldsymbol{E}(u)\\|^2_{\\mathbb{M}} -\\frac{6}{t^3}\\|\\boldsymbol{\\sigma}\\|^2_{\\mathbb{M}^{-1}} +  \\sum_{T\\in\\mathcal{T}_h}\\Big(\\int_{T} \\boldsymbol{\\sigma}:(\\boldsymbol{H}_{\\nu\\circ\\phi}+(1-\\hat{\\nu}\\cdot\\nu\\circ\\phi)\\nabla_S\\hat{\\nu})\\,ds \\\\\n",
    "&\\qquad+ \\int_{\\partial T}(\\sphericalangle(\\mu\\circ\\phi,\\{\\!\\{\\nu^n\\}\\!\\})-\\sphericalangle(\\hat{\\mu},\\{\\!\\{\\hat{\\nu}\\}\\!\\}))\\boldsymbol{\\sigma}_{\\hat{\\mu}\\hat{\\mu}}\\,dl\\Big) - \\int_{\\mathcal{S}}f\\cdot u\\,ds.\n",
    "\\end{align*}"
   ]
  },
  {
   "cell_type": "code",
   "execution_count": null,
   "metadata": {},
   "outputs": [],
   "source": [
    "bfA = BilinearForm(fes, symmetric=True, condense=True)\n",
    "# membrane energy\n",
    "bfA += Variation(0.5 * thickness * MaterialNorm(Etautau, E, nu) * ds).Compile()\n",
    "# bending energy via HHJ\n",
    "bfA += Variation(\n",
    "    (\n",
    "        -6 / thickness**3 * MaterialNormInv(sigma, E, nu)\n",
    "        + InnerProduct(Hn + (1 - nsurf * nphys) * gradn, sigma)\n",
    "    )\n",
    "    * ds\n",
    ").Compile()\n",
    "# boundary term of bending energy (change of normal vectors at element interfaces)\n",
    "bfA += Variation(\n",
    "    (acos(nelphys * pnaverage) - acos(nel * cfnR))\n",
    "    * sigma[nel,nel]\n",
    "    * ds(element_boundary=True)\n",
    ").Compile()\n",
    "\n",
    "# body force as right-hand side\n",
    "par = Parameter(0.0)\n",
    "bfA += Variation(-2*thickness * par * y * u[1] * ds)"
   ]
  },
  {
   "cell_type": "code",
   "execution_count": null,
   "metadata": {},
   "outputs": [],
   "source": [
    "solution.vec[:] = 0\n",
    "scene = Draw(solution.components[0], mesh, \"disp\", deformation=solution.components[0])"
   ]
  },
  {
   "cell_type": "markdown",
   "metadata": {},
   "source": [
    "Use Newton's method for solving and increase magnitude of right-hand side by load-steps.\n",
    "\n",
    "The normal vector needs to be averaged after each Newton step."
   ]
  },
  {
   "cell_type": "code",
   "execution_count": null,
   "metadata": {},
   "outputs": [],
   "source": [
    "numsteps = 10\n",
    "with TaskManager():\n",
    "    for steps in range(numsteps):\n",
    "        par.Set((steps + 1) / numsteps)\n",
    "        print(\"Loadstep =\", steps + 1, \", F/Fmax =\", (steps + 1) / numsteps * 100, \"%\")\n",
    "\n",
    "        # update averaged normal vector\n",
    "        averednv.Set(\n",
    "            (1 - gfclamped) * cfnphys + gfclamped * nsurf,\n",
    "            dual=True,\n",
    "            definedon=mesh.Boundaries(\".*\"),\n",
    "        )\n",
    "\n",
    "        # solve\n",
    "        solvers.Newton(\n",
    "            bfA, solution, inverse=\"umfpack\", printing=False, maxerr=1e-10, maxit=20\n",
    "        )\n",
    "        scene.Redraw()"
   ]
  },
  {
   "cell_type": "markdown",
   "metadata": {},
   "source": [
    "Advantage:\n",
    "* No $H^2$ finite elements needed\n",
    "\n",
    "Disadvantage:\n",
    "* Saddle point problem\n",
    "* Moments are prescribed as essential Dirichlet data, not optimal for load-steps with moments as right-hand side"
   ]
  },
  {
   "cell_type": "markdown",
   "metadata": {},
   "source": [
    "Therefore we use hybridization making $\\sigma$ discontinuous and reinforcing the normal-normal continuity by a Lagrange multiplier $\\alpha$.\n",
    "\n",
    "<center>\n",
    "<table><tr>\n",
    "<td> <img src=\"h1_p1_trig.png\" width=\"150\"/> </td>\n",
    "<td> <img src=\"hdivdiv_0_trig_2.png\" width=\"170\"/> </td>\n",
    "<td> <img src=\"normalfacet_0_trig_0.png\" width=\"150\"/> </td>\n",
    "</tr></table>\n",
    "</center>\n",
    "\n",
    "This enables also to statically condense out $\\sigma$ and the resulting system in $(u,\\alpha)$ is again a minimization problem such that we can use e.g. sparsecholesky solver (or CG). The resulting dofs are equivalent to the famous Morley triangle which is a non-conforming element for fourth order problems.\n",
    "<center>\n",
    "<img src=\"morley_element.png\" width=\"150\"/>\n",
    "</center>"
   ]
  },
  {
   "cell_type": "markdown",
   "metadata": {},
   "source": [
    "### Cantilever with bending moments\n",
    "<center>\n",
    "<img src=\"cant_bend_mom_1d.png\" width=\"200\"/>\n",
    "</center>\n",
    "\n",
    "We consider a beam which is fixed at the left boundary and we will apply a moment at the right boundary such that the beam should roll up to a circle (Possion ratio $\\bar\\nu=0$). We use loadsteps to increase the moments and apply Newton's method. As the bending moment would be incorporated strongly via $\\sigma_{\\hat\\mu\\hat\\mu}$, which is tedious, we use the hybridized formulation such that we can include the force weakly directly in the formulation. "
   ]
  },
  {
   "cell_type": "code",
   "execution_count": null,
   "metadata": {},
   "outputs": [],
   "source": [
    "from ngsolve import *\n",
    "from ngsolve.webgui import Draw\n",
    "from netgen.occ import *\n",
    "\n",
    "thickness = 0.1\n",
    "L = 12\n",
    "W = 1\n",
    "E, nu = 1.2e6, 0\n",
    "moment = IfPos(x - L + 1e-6, 1, 0) * 50 * pi / 3\n",
    "\n",
    "def mapping(x, y, z): return (L * x, W * y, 0)\n",
    "rect = Rectangle(L, W).Face()\n",
    "rect.edges.Min(X).name = \"left\"\n",
    "rect.edges.Max(X).name = \"right\"\n",
    "rect.edges.Min(Y).name = \"bottom\"\n",
    "rect.edges.Max(Y).name = \"top\"\n",
    "mesh = Mesh(OCCGeometry(rect).GenerateMesh(maxh=1))\n",
    "Draw(mesh);"
   ]
  },
  {
   "cell_type": "markdown",
   "metadata": {},
   "source": [
    "Due to hybridization the essential and natural boundary conditions swapped again. For the Lagrange multiplier, which has the physical meaning of the rotated angle, we set homogeneous Dirichlet at the clamped left boundary."
   ]
  },
  {
   "cell_type": "code",
   "execution_count": null,
   "metadata": {},
   "outputs": [],
   "source": [
    "# try out order = 1, 2, 3 with and without Regge interpolation in the membrane energy term\n",
    "order = 2\n",
    "\n",
    "fes1 = HDivDivSurface(mesh, order=order - 1, discontinuous=True)\n",
    "fes2 = VectorH1(\n",
    "    mesh,\n",
    "    order=order,\n",
    "    dirichletx_bbnd=\"left\",\n",
    "    dirichlety_bbnd=\"left|bottom\",\n",
    "    dirichletz_bbnd=\"left\",\n",
    ")\n",
    "fes3 = NormalFacetSurface(mesh, order=order - 1, dirichlet_bbnd=\"left\")\n",
    "fes = fes2 * fes1 * fes3\n",
    "u, sigma, hyb = fes.TrialFunction()\n",
    "# trace needed as we are on the surface\n",
    "sigma, hyb = sigma.Trace(), hyb.Trace()\n",
    "\n",
    "# For avoiding membrane locking for order >= 2\n",
    "Regge = HCurlCurl(mesh, order=order - 1)\n",
    "\n",
    "solution = GridFunction(fes, name=\"solution\")"
   ]
  },
  {
   "cell_type": "markdown",
   "metadata": {},
   "source": [
    "Define again the tensors and deformed vectors"
   ]
  },
  {
   "cell_type": "code",
   "execution_count": null,
   "metadata": {},
   "outputs": [],
   "source": [
    "nsurf = specialcf.normal(mesh.dim)\n",
    "t = specialcf.tangential(mesh.dim)\n",
    "nel = Cross(nsurf, t)\n",
    "\n",
    "Ptau = Id(mesh.dim) - OuterProduct(nsurf, nsurf)\n",
    "Ftau = grad(u).Trace() + Ptau\n",
    "Ctau = Ftau.trans * Ftau\n",
    "Etautau = 0.5 * (Ctau - Ptau)\n",
    "\n",
    "nphys = Normalize(Cof(Ftau) * nsurf)\n",
    "tphys = Normalize(Ftau * t)\n",
    "nelphys = Cross(nphys, tphys)\n",
    "\n",
    "Hn = CF((u.Operator(\"hesseboundary\").trans * nphys), dims=(3, 3))"
   ]
  },
  {
   "cell_type": "markdown",
   "metadata": {},
   "source": [
    "Stuff for averaging normal vector and material laws"
   ]
  },
  {
   "cell_type": "code",
   "execution_count": null,
   "metadata": {},
   "outputs": [],
   "source": [
    "gfclamped = GridFunction(FacetSurface(mesh, order=0))\n",
    "gfclamped.Set(1, definedon=mesh.BBoundaries(\"left\"))\n",
    "\n",
    "fesVF = VectorFacetSurface(mesh, order=order)\n",
    "averednv = GridFunction(fesVF)\n",
    "averednv_start = GridFunction(fesVF)\n",
    "\n",
    "cfnphys = Normalize(Cof(Ptau + grad(solution.components[0])) * nsurf)\n",
    "\n",
    "cfnR = Normalize(averednv_start)\n",
    "pnaverage = Normalize(averednv - (tphys * averednv) * tphys)\n",
    "\n",
    "averednv.Set(nsurf, dual=True, definedon=mesh.Boundaries(\".*\"))\n",
    "averednv_start.Set(nsurf, dual=True, definedon=mesh.Boundaries(\".*\"))\n",
    "\n",
    "\n",
    "def MaterialNorm(mat, E, nu):\n",
    "    return E / (1 - nu**2) * ((1 - nu) * InnerProduct(mat, mat) + nu * Trace(mat) ** 2)\n",
    "\n",
    "\n",
    "def MaterialNormInv(mat, E, nu):\n",
    "    return (1 + nu) / E * (InnerProduct(mat, mat) - nu / (nu + 1) * Trace(mat) ** 2)"
   ]
  },
  {
   "cell_type": "markdown",
   "metadata": {},
   "source": [
    "Define hybridized energy and set condense=True to condense out bending moment unknown.\n",
    "\n",
    "For $k\\geq 2$ so-called membrane locking can occur for small thickness parameters due to the different scaling of the membrane and bending energy. To circumvent this locking problem we can interpolate the membrane strains into Regge finite elements of one order less than the displacement fields [<a href=\"https://doi.org/10.1016/j.cma.2020.113524\">Neunteufel, Schöberl. Avoiding membrane locking with Regge interpolation. <i>Computer Methods in Applied Mechanics and Engineering</i>, (2021).</a>]."
   ]
  },
  {
   "cell_type": "code",
   "execution_count": null,
   "metadata": {},
   "outputs": [],
   "source": [
    "bfA = BilinearForm(fes, symmetric=True, condense=True)\n",
    "# membrane energy\n",
    "if True:\n",
    "    bfA += Variation(0.5 * thickness * MaterialNorm(Etautau, E, nu) * ds)\n",
    "else:  # interpolate the membrane strains into Regge elements to avoid membrane locking\n",
    "    bfA += Variation(\n",
    "        0.5 * thickness * MaterialNorm(Interpolate(Etautau, Regge), E, nu) * ds\n",
    "    )\n",
    "# bending energy\n",
    "bfA += Variation(\n",
    "    (\n",
    "        -6 / thickness**3 * MaterialNormInv(sigma, E, nu)\n",
    "        + InnerProduct(Hn + (1 - nsurf * nphys) * Grad(nsurf), sigma)\n",
    "    )\n",
    "    * ds\n",
    ").Compile()\n",
    "# boundary term of bending energy including hybridization variable\n",
    "bfA += Variation(\n",
    "    (acos(nelphys * pnaverage) - acos(nel * cfnR) + hyb * nel)\n",
    "    * sigma[nel,nel]\n",
    "    * ds(element_boundary=True)\n",
    ").Compile()\n",
    "\n",
    "# moment as right-hand side\n",
    "par = Parameter(0.0)\n",
    "bfA += Variation(-par * moment * (hyb * nel) * ds(element_boundary=True))"
   ]
  },
  {
   "cell_type": "code",
   "execution_count": null,
   "metadata": {},
   "outputs": [],
   "source": [
    "solution.vec[:] = 0\n",
    "scene = Draw(solution.components[0], mesh, \"disp\", deformation=solution.components[0])"
   ]
  },
  {
   "cell_type": "markdown",
   "metadata": {},
   "source": [
    "Average new normal vector and solve with Newton."
   ]
  },
  {
   "cell_type": "code",
   "execution_count": null,
   "metadata": {},
   "outputs": [],
   "source": [
    "numsteps = 10\n",
    "with TaskManager():\n",
    "    for steps in range(numsteps):\n",
    "        par.Set((steps + 1) / numsteps)\n",
    "        print(\"Loadstep =\", steps + 1, \", F/Fmax =\", (steps + 1) / numsteps * 100, \"%\")\n",
    "\n",
    "        # update averaged normal vector\n",
    "        averednv.Set(\n",
    "            (1 - gfclamped) * cfnphys + gfclamped * nsurf,\n",
    "            dual=True,\n",
    "            definedon=mesh.Boundaries(\".*\"),\n",
    "        )\n",
    "\n",
    "        solvers.Newton(\n",
    "            bfA, solution, inverse=\"sparsecholesky\", printing=False, maxerr=1e-10\n",
    "        )\n",
    "        scene.Redraw()"
   ]
  },
  {
   "cell_type": "markdown",
   "metadata": {},
   "source": [
    "It works perfectly for lowest order (linear displacement). Increasing to second order the cantilever does not completely roll up to a circle, why?\n",
    "\n",
    "The observed behavior is due to membrane locking of shells. The usage of higher polynomial degree mitigates the problem."
   ]
  },
  {
   "cell_type": "markdown",
   "metadata": {},
   "source": [
    "We can try out how many rounds the shell can do by further increasing the bending moment."
   ]
  },
  {
   "cell_type": "code",
   "execution_count": null,
   "metadata": {},
   "outputs": [],
   "source": [
    "numsteps = 10\n",
    "with TaskManager():\n",
    "    for steps in range(numsteps):\n",
    "        par.Set(par.Get() + (1) / numsteps)\n",
    "        print(\"Loadstep =\", steps + 1, \", F/Fmax =\", (steps + 1) / numsteps * 100, \"%\")\n",
    "\n",
    "        # update averaged normal vector\n",
    "        averednv.Set(\n",
    "            (1 - gfclamped) * cfnphys + gfclamped * nsurf,\n",
    "            dual=True,\n",
    "            definedon=mesh.Boundaries(\".*\"),\n",
    "        )\n",
    "\n",
    "        solvers.Newton(\n",
    "            bfA, solution, inverse=\"sparsecholesky\", printing=False, maxerr=1e-10\n",
    "        )\n",
    "        scene.Redraw()"
   ]
  },
  {
   "cell_type": "code",
   "execution_count": null,
   "metadata": {},
   "outputs": [],
   "source": []
  }
 ],
 "metadata": {
  "kernelspec": {
   "display_name": "Python 3",
   "language": "python",
   "name": "python3"
  },
  "language_info": {
   "codemirror_mode": {
    "name": "ipython",
    "version": 3
   },
   "file_extension": ".py",
   "mimetype": "text/x-python",
   "name": "python",
   "nbconvert_exporter": "python",
   "pygments_lexer": "ipython3",
   "version": "3.13.1"
  }
 },
 "nbformat": 4,
 "nbformat_minor": 4
}
