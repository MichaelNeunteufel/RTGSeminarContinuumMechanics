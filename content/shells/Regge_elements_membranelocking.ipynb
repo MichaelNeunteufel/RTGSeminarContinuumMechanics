{
 "cells": [
  {
   "cell_type": "markdown",
   "id": "0",
   "metadata": {},
   "source": [
    "# Regge elements and membrane locking\n",
    "\n",
    "## Regge finite element space\n",
    "The Regge finite elements were recently introduced in the finite element context [<a href=\"https://doi.org/10.1007/s00211-011-0394-z\">Christiansen. On the linearization of Regge calculus. <i>Numerische Mathematik</i>, (2011).</a>]. Arbitrary order elements for simplices as triangles and tetrahedra were proposed in [<a href=\"http://hdl.handle.net/11299/199048\">Li. Regge Finite Elements with Applications in Solid Mechanics and Relativity. <i>PhD thesis</i>, (2018).</a>] and for quadrilaterals, hexahedra, and prisms in [<a href=\"https://repositum.tuwien.at/handle/20.500.12708/17043\">Neunteufel. Mixed finite Element Methods For Nonlinear Continuum Mechanics and Shells. <i>PhD thesis</i>, (2021).</a>].\n",
    "\n",
    "\n",
    "\n",
    "\n",
    "The Regge elements discretize strain and metric fields, which are symmetric matrices and their natural (weakest) regularity is tangential-tangential continuity. In two dimensions on triangles the Regge elements are related to Hellan-Herrmann-Johnson elements by rotating the degrees of freedom.\n",
    "<center>\n",
    "<table>\n",
    "    <tr>\n",
    "        <td><img src=\"hcurlcurl_0_trig_ref_1.jpg\" width=\"120\"/></td>\n",
    "    <td> <img src=\"hcurlcurl_0_trig_ref_2.jpg\" width=\"120\"/> </td>\n",
    "<td> <img src=\"hcurlcurl_0_tet_ref_1.jpg\" width=\"130\"/> </td>\n",
    "</tr>\n",
    "    <tr>\n",
    "        <td><img src=\"hcurlcurl_0_quad_ref_1.jpg\" width=\"120\"/></td>\n",
    "    <td> <img src=\"hcurlcurl_0_hex_ref_1.jpg\" width=\"120\"/> </td>\n",
    "<td> <img src=\"hcurlcurl_0_prism_ref_1.jpg\" width=\"130\"/> </td>\n",
    "</tr>\n",
    "</table>\n",
    "</center>\n"
   ]
  },
  {
   "cell_type": "markdown",
   "id": "1",
   "metadata": {},
   "source": [
    "The Regge finite elements are (slightly) non-conforming sub-spaces of the function space\n",
    "$$\n",
    "H(\\mathrm{curlcurl})=\\{\\sigma\\in [L^2(\\Omega)]^{d\\times d}_{\\text{sym}}\\,|\\,\\text{curl }(\\text{curl }\\sigma)^T\\in [H^{-1}(\\Omega)]^{2d-3\\times 2d-3} \\}.\n",
    "$$\n",
    "For triangles and tetrahedra the full finite element space is defined as\n",
    "\\begin{align*}\n",
    "&\\text{Reg}_h^k = \\{\\sigma\\in [\\mathcal{P}^k(\\mathcal{T}_h)]^{d\\times d}_{\\text{sym}}\\,|\\,t^T\\sigma t\\text{ is continuous over elements}  \\}.\n",
    "\\end{align*}\n",
    "\n",
    "The degrees of freedom are suited to construct globally tangential-tangential continuous functions. Lowest order edge and bubble functions can easily be constructed with barycentric coordinates.\n",
    "\\begin{align*}\n",
    "\t\t\\varphi_{E_i} = \\nabla \\lambda_j\\odot\\nabla \\lambda_k,\\qquad t_j^\\top\\varphi_{E_i}t_j=c_i\\delta_{ij},\\qquad\\qquad\\varphi_{T_i} = \\lambda_i\\,\\nabla \\lambda_j\\odot\\nabla \\lambda_k.\n",
    "\\end{align*}\n",
    "For higher order shape functions one might augment these low-order functions by e.g. linear independent Legendre and Jacobi polynomials.\n",
    "\n",
    "The canonical Regge interpolant is defined by the requirement to preserve tangential-tangential moments at edges and inner moments\n",
    "\n",
    "\\begin{align*}\n",
    "\t\t&\\mathcal{I}_{Reg}^k:C^0(\\Omega)\\to \\text{Reg}_h^k\\\\\n",
    "\t\t&\\int_{E}(g-\\mathcal{I}_{Reg}^kg)_{tt}\\,q\\,dl = 0 \\text{ for all } q\\in \\mathcal{P}^{k}(E)\\\\\n",
    "\t\t&\\int_T(g-\\mathcal{I}_{Reg}^kg):Q\\,da = 0 \\text{ for all } Q\\in \\mathcal{P}^{k-1}(T,\\mathbb{R}^{2\\times 2}_{\\mathrm{sym}})\n",
    "\\end{align*}"
   ]
  },
  {
   "cell_type": "markdown",
   "id": "2",
   "metadata": {},
   "source": [
    "## Membrane locking\n",
    "Reference: [<a href=\"https://doi.org/10.1016/j.cma.2020.113524\">Neunteufel, Schöberl. Avoiding membrane locking with Regge interpolation. <i>Computer Methods in Applied Mechanics and Engineering</i>, (2021).</a>]\n",
    "\n",
    "As membrane locking occurs already in the linear regime we consider the linearized membrane energy term (neglecting the material tensor)\n",
    "$$\n",
    "E= t\\,\\|\\mathrm{sym}(\\nabla^{\\mathrm{cov}}_S u)\\|^2 = t\\,\\|\\mathrm{sym}(P_S\\nabla_S u)\\|^2\n",
    "$$\n",
    "where $P_S=I-n\\otimes n$ is the projection onto the tangent space and $\\nabla_S u$ the surface derivative of the displacements. Let the triangulation of the surface be affine, i.e. uncurved and the displacements linear. Then $\\mathrm{sym}(\\nabla^{\\mathrm{cov}}_S u)$ is a polynomial of order $0$ as the normal vector $n$ is elements-wise constant. For quadratic curved elements and quadratic displacements. Then $n$ is linear and thus $\\mathrm{sym}(\\nabla^{\\mathrm{cov}}_S u)\\in\\mathcal{P}^3$. \n",
    "\n",
    "In the limit $t\\to 0$ the membrane energy becomes in the bending dominated regime a penalty that it should be zero. Finding non-trivial displacements ($u\\neq 0$) fulfilling the cubic equation might be difficult and thus, membrane locking can occur.\n",
    "\n",
    "When using the canonical Regge interpolate of one polynomial degree less than the displacement fields inside the membrane energy\n",
    "$$\n",
    "E= t\\,\\|\\mathcal{I}_{Reg}^{k-1}(\\mathrm{sym}(\\nabla^{\\mathrm{cov}}_S u))\\|^2\n",
    "$$\n",
    "there obviously holds $\\mathcal{I}_{Reg}^{k-1}(\\mathrm{sym}(\\nabla^{\\mathrm{cov}}_S u))\\mathcal{P}^{k-1}$ such that the number of constraints in the limit $t\\to0$ gets reduced, the kerbel constraints get relaxed.\n",
    "\n"
   ]
  },
  {
   "cell_type": "markdown",
   "id": "3",
   "metadata": {},
   "source": [
    "### Heuristic proof via constraint count\n",
    "There holds asymptotically on a triangulation\n",
    "\n",
    "\\begin{align*}\n",
    "\\#T \\approx 2\\#V,\\qquad \\#E \\approx 3\\#V, \\qquad \\#E = \\frac{3}{2}\\#T, \n",
    "\\end{align*}\n",
    "where $\\#T$, $\\#E$, and $\\#V$ denote the number of triangles, edges, and vertices, respectively. \n",
    "\n",
    "On an infinite triangulation $\\mathcal{T}_h$ there holds for the so-called constraint ratio (also denoted constraint count)\n",
    "\\begin{align*}\n",
    "r = \\frac{\\# \\text{dofs}}{\\#\\text{constraints}}=\\frac{3\\# V}{\\# E}\\approx\\frac{\\#E}{\\# E}=1.\n",
    "\\end{align*}\n",
    "Here, the number of dofs are given by the three Lagrangian displacement fields at each vertex, involved in the membrane energy, and the number of constraints is the amount of dofs of the Regge space. For Lagrangian elements of polynomial order $k$ and corresponding Regge elements of order $k-1$ the constraint ratio is thus given by\n",
    "\\begin{align*}\n",
    "r= \\frac{3(\\#V+(k-1)\\#E+\\frac{(k-2)(k-1)}{2}\\#T)}{k\\#E+\\frac{3(k-1)k}{2}\\#T}=\\frac{k^2\\#E}{k^2\\#E}=1\n",
    "\\end{align*}\n",
    "and therefore, the ratio is $1$ for arbitrary order. In the continuous setting the constraint ratio is also $1$ (three displacement fields and three equations forcing zero membrane energy in the limit $t\\to0$). As a result, (immense) locking ($r<1$) is not expected. Further relaxation of the constraint would lead to $r>1$ and thus, the constraints may be underrepresented and possibly spurious energy modes appear."
   ]
  },
  {
   "cell_type": "code",
   "execution_count": null,
   "id": "4",
   "metadata": {},
   "outputs": [],
   "source": []
  }
 ],
 "metadata": {
  "kernelspec": {
   "display_name": "Python 3 (ipykernel)",
   "language": "python",
   "name": "python3"
  },
  "language_info": {
   "codemirror_mode": {
    "name": "ipython",
    "version": 3
   },
   "file_extension": ".py",
   "mimetype": "text/x-python",
   "name": "python",
   "nbconvert_exporter": "python",
   "pygments_lexer": "ipython3",
   "version": "3.10.6"
  }
 },
 "nbformat": 4,
 "nbformat_minor": 5
}
