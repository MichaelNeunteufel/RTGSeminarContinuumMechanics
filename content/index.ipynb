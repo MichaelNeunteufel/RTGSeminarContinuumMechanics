{
 "cells": [
  {
   "cell_type": "markdown",
   "metadata": {},
   "source": [
    "# RTG Seminar: Continuum mechanics\n",
    "\n",
    "The following notebooks are supplementary materials for the seminar."
   ]
  },
  {
   "cell_type": "markdown",
   "metadata": {},
   "source": [
    "## Elasticity\n",
    "* [Linear elasticity](linearelasticity.ipynb)\n",
    "* [Nonlinear elasticity](nonlinearelasticity.ipynb)\n",
    "* [Nearly incompressible materials](nearlyincompressibleelasticity.ipynb)\n",
    "* [TDNNS method for linear elasticity](TDNNS_elasticity.ipynb)\n",
    "* [Thin structures](thin_structures.ipynb)\n"
   ]
  },
  {
   "cell_type": "markdown",
   "metadata": {},
   "source": [
    "## Beams"
   ]
  },
  {
   "cell_type": "markdown",
   "metadata": {},
   "source": [
    "## Plates"
   ]
  },
  {
   "cell_type": "markdown",
   "metadata": {},
   "source": []
  }
 ],
 "metadata": {
  "language_info": {
   "name": "python"
  }
 },
 "nbformat": 4,
 "nbformat_minor": 2
}
