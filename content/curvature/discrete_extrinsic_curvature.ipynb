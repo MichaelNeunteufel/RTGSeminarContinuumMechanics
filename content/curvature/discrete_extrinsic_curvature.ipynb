{
 "cells": [
  {
   "cell_type": "markdown",
   "id": "4096f3f0",
   "metadata": {},
   "source": [
    "# Discrete extrinsic curvature\n",
    "In this notebook we compute the Weingarten tensor (extrinsic curvature) $\\nabla\\nu$ of an affine or polynomially curved surface approximating an exact smooth surface."
   ]
  },
  {
   "cell_type": "code",
   "execution_count": null,
   "id": "4598d20f",
   "metadata": {},
   "outputs": [],
   "source": [
    "from ngsolve import *\n",
    "from netgen.occ import *\n",
    "import random as random\n",
    "from ngsolve.webgui import Draw"
   ]
  },
  {
   "cell_type": "markdown",
   "id": "af8f7191",
   "metadata": {},
   "source": [
    "Let $S$ be a surface and $\\mathcal{T}$ a (possibly polynomially curved) triangulation approximating $S$, which is only continuous but not $C^1$. We define the distributional Weingarten tensor by acting on co-normal co-normal continuous Hellan-Herrmann-Johnson testfunctions $\\boldsymbol{\\sigma}\\in M_h^{k-1}$ ($k$=order of curved mesh)\n",
    "\n",
    "\\begin{align*}\n",
    "\t\\langle \\nabla\\nu,\\boldsymbol{\\sigma}\\rangle = \\sum_{T \\in \\mathcal{T}}\\int_T\\nabla\\nu|_T:\\boldsymbol{\\sigma}\\,ds + \\sum_{E\\in\\mathcal{E}}\\int_{E} \\sphericalangle(\\nu_L,\\nu_R)\\boldsymbol{\\sigma}_{\\mu\\mu}\\,dl &= \\sum_{T \\in \\mathcal{T}}\\Big(\\int_T\\nabla\\nu|_T:\\boldsymbol{\\sigma}\\,ds + \\int_{\\partial T} \\sphericalangle(\\nu,\\{\\nu\\})\\boldsymbol{\\sigma}_{\\mu\\mu}\\,dl\\Big)\\\\\n",
    "    &= \\sum_{T \\in \\mathcal{T}}\\Big(\\int_T\\nabla\\nu|_T:\\boldsymbol{\\sigma}\\,ds + \\int_{\\partial T} \\left(\\frac{\\pi}{2}-\\sphericalangle(\\mu,\\{\\nu\\})\\right)\\boldsymbol{\\sigma}_{\\mu\\mu}\\,dl\\Big),\n",
    "\\end{align*}\n",
    "where $\\{\\nu\\} =\\frac{\\nu_L+\\nu_R}{\\|\\nu_L+\\nu_R\\|}$ denotes the averaged normal vector and $\\sphericalangle(a,b):= \\arccos(a\\cdot b)$ the angle. The latter expression is numerically more stable as $\\mu\\cdot\\{\\nu\\} \\approx 0$ for $\\mathcal{T}\\to S$ for a smooth surface.\n",
    "\n",
    "The lifted Weingarten tensor $\\boldsymbol{\\kappa}$ is the discrete $L^2$ Riesz-representative of the the distribution: Find $\\boldsymbol{\\kappa}\\in M_h^{k-1}$ such that for all $\\boldsymbol{\\sigma}\\in M_h^{k-1}$\n",
    "\n",
    "\\begin{align*}\n",
    "\\int_S\\boldsymbol{\\kappa}:\\boldsymbol{\\sigma}\\,ds = \\langle \\nabla\\nu,\\boldsymbol{\\sigma}\\rangle.\n",
    "\\end{align*}\n",
    "\n",
    "Question: How good does $\\boldsymbol{\\kappa}$ converge to the exact Weingarten tensor?\n"
   ]
  },
  {
   "cell_type": "markdown",
   "id": "1bdaa3a0",
   "metadata": {},
   "source": [
    "Procedure to generate different kind of surface shapes, where the mesh get perturbed to avoid possible super-convergence: Sphere, ellipse, torus"
   ]
  },
  {
   "cell_type": "code",
   "execution_count": null,
   "id": "1a0fa3d9",
   "metadata": {},
   "outputs": [],
   "source": [
    "def GenMesh(maxh=1, order=1, shape=\"sphere\"):\n",
    "    if shape == \"sphere\":\n",
    "        sphere = Sphere((0, 0, 0), 1).faces[0]\n",
    "        sphere.edges.name = \"edge\"\n",
    "        mesh = Mesh(OCCGeometry(sphere).GenerateMesh(maxh=maxh))\n",
    "\n",
    "        # need to avoid moving bbnd elements\n",
    "        fixpoint = []\n",
    "        for seg in mesh.ngmesh.Elements1D():\n",
    "            fixpoint += seg.vertices\n",
    "        fixpoint = set(fixpoint)\n",
    "\n",
    "        # x**2+y**2+z**2 = 1\n",
    "        cf_surf = x**2 + y**2 + z**2 - 1**2\n",
    "        par = 0.17 * maxh if maxh > 0.2 else 0.25 * maxh\n",
    "\n",
    "        for i, p in enumerate(mesh.ngmesh.Points()):\n",
    "            if i + 1 in fixpoint:\n",
    "                continue\n",
    "            x1, x2, x3 = p[0], p[1], p[2]\n",
    "            x1 += random.uniform(-par, par)\n",
    "            x2 += random.uniform(-par, par)\n",
    "            x3 += random.uniform(-par, par)\n",
    "            r = sqrt(x1**2 + x2**2 + x3**2)\n",
    "            p[0] = x1 / r\n",
    "            p[1] = x2 / r\n",
    "            p[2] = x3 / r\n",
    "        mesh.Curve(order)\n",
    "    elif shape == \"ellipse\":\n",
    "        a = 1\n",
    "        b = 1.5\n",
    "        c = 0.8\n",
    "        # x**2/a**2+y**2/b**2+z**2/c**2 = 1**2\n",
    "        cf_surf = x**2 / a**2 + y**2 / b**2 + z**2 / c**2 - 1**2\n",
    "        ell = Ellipsoid(Axes((0, 0, 0), X, Y), a, b, c).faces[0]\n",
    "        mesh = Mesh(OCCGeometry(ell).GenerateMesh(maxh=maxh))\n",
    "        fixpoint = []\n",
    "        for seg in mesh.ngmesh.Elements1D():\n",
    "            fixpoint += seg.vertices\n",
    "        fixpoint = set(fixpoint)\n",
    "        par = 0.03 * maxh if maxh > 0.2 else 0.08 * maxh\n",
    "        for i, p in enumerate(mesh.ngmesh.Points()):\n",
    "            if i + 1 in fixpoint:\n",
    "                continue\n",
    "            x1, x2, x3 = p[0], p[1], p[2]\n",
    "            x1 += random.uniform(-par, par)\n",
    "            x2 += random.uniform(-par, par)\n",
    "            x3 += random.uniform(-par, par)\n",
    "            radius = sqrt(x1**2 / a**2 + x2**2 / b**2 + x3**2 / c**2)\n",
    "            p[0] = x1 / radius\n",
    "            p[1] = x2 / radius\n",
    "            p[2] = x3 / radius\n",
    "        mesh.Curve(order)\n",
    "    elif shape == \"torus\":\n",
    "        R = 3\n",
    "        r = 1  # r < R\n",
    "        # (sqrt(x**2+y**2)-R)**2 + z**2 = r**2\n",
    "        cf_surf = (sqrt(x**2 + y**2) - R) ** 2 + z**2 - r**2\n",
    "\n",
    "        circ = WorkPlane(Axes((R, 0, 0), -Y, X)).Circle(r).Wire()\n",
    "        torus = Revolve(circ, Axis((0, 0, 0), (0, 0, 1)), 360)\n",
    "        mesh = Mesh(OCCGeometry(torus).GenerateMesh(maxh=maxh)).Curve(order)\n",
    "    else:\n",
    "        raise Exception(\"shape\" + str(shape) + \" not implemented\")\n",
    "\n",
    "    return mesh, cf_surf"
   ]
  },
  {
   "cell_type": "markdown",
   "id": "d248fe61",
   "metadata": {},
   "source": [
    "Compute the lifted Weingarten tensor. NGSolve supports the special coefficient function ``specialcf.Weingarten(dim)``, where the normal vector is numerically differentiated. Using ``Grad(specialcf.normal(dim))`` yields the same Weingarten tensor object."
   ]
  },
  {
   "cell_type": "code",
   "execution_count": null,
   "id": "f47a201d",
   "metadata": {},
   "outputs": [],
   "source": [
    "def Lifting(mesh, order):\n",
    "    n = specialcf.normal(3)\n",
    "    t = specialcf.tangential(3)\n",
    "    mu = Cross(n, t)\n",
    "\n",
    "    # Average normal vector\n",
    "    gfF = GridFunction(VectorFacetSurface(mesh, order=order-1))\n",
    "    gfF.Set(n, dual=True, definedon=mesh.Boundaries(\".*\"))\n",
    "\n",
    "    fes = HDivDivSurface(mesh, order=order-1)\n",
    "    sigma, tau = fes.TnT()\n",
    "    sigma, tau = sigma.Trace(), tau.Trace()\n",
    "\n",
    "    a = BilinearForm(InnerProduct(sigma, tau) * ds, symmetric=True)\n",
    "\n",
    "    # Grad(n) = specialcf.Weingarten(3)\n",
    "    f = LinearForm(fes)\n",
    "    f += InnerProduct(Grad(n), tau) * ds + (\n",
    "        pi / 2 - acos(Normalize(gfF) * mu)\n",
    "    ) * tau[mu,mu] * ds(element_boundary=True)\n",
    "\n",
    "    gflift = GridFunction(fes)\n",
    "\n",
    "    with TaskManager():\n",
    "        a.Assemble()\n",
    "        f.Assemble()\n",
    "        gflift.vec.data = (\n",
    "            a.mat.Inverse(fes.FreeDofs(), inverse=\"sparsecholesky\") * f.vec\n",
    "        )\n",
    "\n",
    "    # mean curvature\n",
    "    Draw(0.5 * Trace(gflift), mesh, \"mean\")\n",
    "    return gflift"
   ]
  },
  {
   "cell_type": "markdown",
   "id": "ee9a90b7",
   "metadata": {},
   "source": [
    "Do convergence test for a sequence of meshes"
   ]
  },
  {
   "cell_type": "code",
   "execution_count": null,
   "id": "de886bb3",
   "metadata": {
    "scrolled": false
   },
   "outputs": [],
   "source": [
    "# order >= 1 ... order of mesh-curving\n",
    "order = 1\n",
    "shape = \"ellipse\"  # \"sphere\"#\"torus\"#\"ellipse\"\n",
    "\n",
    "l2err = []\n",
    "ndof = []\n",
    "\n",
    "maxhs = (\n",
    "    [0.5, 0.25, 0.125, 0.125 / 2, 0.125 / 4]\n",
    "    if shape != \"torus\"\n",
    "    else [0.5, 0.25, 0.125, 0.125 / 2]\n",
    ")\n",
    "with TaskManager():\n",
    "    for maxh in maxhs:\n",
    "        mesh, surf_eq = GenMesh(maxh=maxh, order=order, shape=shape)\n",
    "\n",
    "        # Compute normal vector\n",
    "        normal = Normalize(CF((surf_eq.Diff(x), surf_eq.Diff(y), surf_eq.Diff(z))))\n",
    "        P = Id(3) - OuterProduct(normal, normal)\n",
    "        # Compute Weingarten\n",
    "        Weingarten = (\n",
    "            P\n",
    "            * CF((normal.Diff(x), normal.Diff(y), normal.Diff(z)), dims=(3, 3)).trans\n",
    "            * P\n",
    "        )\n",
    "\n",
    "        # Lifting\n",
    "        gfkappa = Lifting(mesh, order=order)\n",
    "        # Compute L2 error\n",
    "        l2err.append(\n",
    "            sqrt(\n",
    "                Integrate(\n",
    "                    InnerProduct(Weingarten - gfkappa, Weingarten - gfkappa), mesh, BND\n",
    "                )\n",
    "            )\n",
    "        )\n",
    "        ndof.append(gfkappa.space.ndof)"
   ]
  },
  {
   "cell_type": "markdown",
   "id": "2d022bd6",
   "metadata": {},
   "source": [
    "Plot results"
   ]
  },
  {
   "cell_type": "code",
   "execution_count": null,
   "id": "d4b8b67e",
   "metadata": {
    "scrolled": false
   },
   "outputs": [],
   "source": [
    "import matplotlib.pyplot as plt\n",
    "\n",
    "plt.plot(ndof, l2err, \"-*\", label=\"k=\" + str(order))\n",
    "plt.plot(ndof, [3 / sqrt(nd) for nd in ndof], \"--\", color=\"k\", label=\"$O(h)$\")\n",
    "plt.plot(ndof, [30 / sqrt(nd) ** 2 for nd in ndof], \"-\", color=\"k\", label=\"$O(h^2)$\")\n",
    "plt.xscale(\"log\")\n",
    "plt.yscale(\"log\")\n",
    "plt.legend()\n",
    "plt.show()"
   ]
  },
  {
   "cell_type": "markdown",
   "id": "8948cea6",
   "metadata": {},
   "source": [
    "### Applications\n",
    "* Curvature approximation of surfaces\n",
    "* Shells (bending energy) [<a href=\"https://doi.org/10.1016/j.compstruc.2019.106109\">Neunteufel, Schöberl: The Hellan-Herrmann-Johnson method for linear and nonlinear shell, <i>Computers & Structures</i> (2019).</a>], [<a href=\"https://doi.org/10.1016/j.compstruc.2024.107543\">Neunteufel, Schöberl: The Hellan-Herrmann-Johnson and TDNNS methods for linear and nonlinear shell, <i>Computers & Structures</i> (2024).</a>]\n",
    "* Cell membranes (Canham-Helfrich-Evans bending energy) [<a href=\"https://doi.org/10.1016/j.jcp.2023.112218\">Neunteufel, Schöberl, Sturm: Numerical shape optimization of the Canham-Helfrich-Evans bending energy, <i>J Comput Phys</i> (2023).</a>]"
   ]
  },
  {
   "cell_type": "code",
   "execution_count": null,
   "id": "cc4e8a37",
   "metadata": {},
   "outputs": [],
   "source": []
  }
 ],
 "metadata": {
  "kernelspec": {
   "display_name": "Python 3",
   "language": "python",
   "name": "python3"
  },
  "language_info": {
   "codemirror_mode": {
    "name": "ipython",
    "version": 3
   },
   "file_extension": ".py",
   "mimetype": "text/x-python",
   "name": "python",
   "nbconvert_exporter": "python",
   "pygments_lexer": "ipython3",
   "version": "3.13.1"
  }
 },
 "nbformat": 4,
 "nbformat_minor": 5
}
