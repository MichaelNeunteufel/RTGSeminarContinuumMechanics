{
 "cells": [
  {
   "cell_type": "markdown",
   "metadata": {},
   "source": [
    "# Thin structures\n",
    "\n",
    "In this notebook, we consider a cylindrical shell as 3D domain, where the thickness is significantly small. This leads to shear-locking for the standard formulation of linear elasticity. We also test the TDNNS method (briefly introduced in the next notebook), which is shear-locking free."
   ]
  },
  {
   "cell_type": "code",
   "execution_count": null,
   "metadata": {},
   "outputs": [],
   "source": [
    "from ngsolve import *\n",
    "from ngsolve.webgui import Draw\n",
    "from ngsolve.meshes import MakeHexMesh"
   ]
  },
  {
   "cell_type": "markdown",
   "metadata": {},
   "source": [
    "A cylindrical shell domain, where both ends are rigidity fixed (only the normal displacement is allowed to move there). By prescribing a periodic volume force, we can exploit the geometry's symmetry to mesh only one eight of the original geometry and then prescribe symmetry boundary conditions on the arising boundaries."
   ]
  },
  {
   "cell_type": "code",
   "execution_count": null,
   "metadata": {},
   "outputs": [],
   "source": [
    "# thickness, radius and length of the cylinder\n",
    "t  = 3\n",
    "Ri = 300\n",
    "L  = 600\n",
    "\n",
    "# Young's modulus and Poisson's ratio\n",
    "E  = 3e6\n",
    "nu = 0.3\n",
    "\n",
    "# nx, ny, and nz are the number of elements in tangential direction (x,z) and thickness direction (y)\n",
    "# order is the order of the finite element space\n",
    "def GenerateMesh(nx, ny, nz, order=1):\n",
    "    mapping = lambda x,y,z : (Ri*cos(pi/2*x+pi/2)+cos(pi/2*x+pi/2)*t*y,\\\n",
    "                              Ri+Ri*sin(pi/2*x+pi/2)+sin(pi/2*x+pi/2)*t*y,L*z)\n",
    "    mesh = MakeHexMesh(nx=nx, ny=ny, nz=nz, secondorder=(order!=1), mapping=mapping)\n",
    "    return mesh\n",
    "\n",
    "mesh = GenerateMesh(4, 1, 4, order=1)\n",
    "Draw (mesh);"
   ]
  },
  {
   "cell_type": "code",
   "execution_count": null,
   "metadata": {},
   "outputs": [],
   "source": [
    "mu  = E / 2 / (1+nu)\n",
    "lam = E * nu / ((1+nu)*(1-2*nu))\n",
    "\n",
    "force = CF( (0,-10,0) )"
   ]
  },
  {
   "cell_type": "markdown",
   "metadata": {},
   "source": [
    "We start with standard discretization of linear elasticity with Lagrange elements."
   ]
  },
  {
   "cell_type": "code",
   "execution_count": null,
   "metadata": {},
   "outputs": [],
   "source": [
    "def Solve(mesh, order=1):\n",
    "    fes = VectorH1(mesh, order=order, dirichletx=\"back|bottom\", dirichlety=\"front|bottom\",\\\n",
    "                   dirichletz=\"top\")\n",
    "    u,v = fes.TnT()\n",
    "    \n",
    "    a = BilinearForm(fes, symmetric=True)\n",
    "    a += (2*mu*InnerProduct(Sym(Grad(u)),Sym(Grad(v)))+lam*div(u)*div(v))*dx\n",
    "\n",
    "    f = LinearForm(fes)\n",
    "    f += force*v*dx\n",
    "\n",
    "    gfu = GridFunction(fes)\n",
    "    a.Assemble()\n",
    "    f.Assemble()\n",
    "\n",
    "    gfu.vec.data = a.mat.Inverse(fes.FreeDofs(), inverse=\"sparsecholesky\")*f.vec\n",
    "    return gfu\n",
    "\n",
    "\n",
    "# try out:\n",
    "# order=1; 4x1x4 mesh\n",
    "# order=1; 8x1x8 mesh\n",
    "# order=1; 16x1x16 mesh\n",
    "# order=2; 4x1x4 mesh\n",
    "# order=2; 8x1x8 mesh\n",
    "order = 1\n",
    "\n",
    "mesh = GenerateMesh(4, 1, 4, order)\n",
    "with TaskManager():\n",
    "    gfu = Solve(mesh, order)\n",
    "    \n",
    "Draw(gfu, mesh, deformation=True);"
   ]
  },
  {
   "cell_type": "markdown",
   "metadata": {},
   "source": [
    "Next, we use the TDNNS method."
   ]
  },
  {
   "cell_type": "code",
   "execution_count": null,
   "metadata": {},
   "outputs": [],
   "source": [
    "def SolveTDNNS(mesh, order=1):\n",
    "    V = HCurl(mesh, order=order, dirichlet=\"bottom\")\n",
    "    S = HDivDiv(mesh,order=order,dirichlet=\"bottom|left|right\")\n",
    "    fes = V*S\n",
    "    (u,sigma),(v,tau) = fes.TnT()\n",
    "    \n",
    "    n = specialcf.normal(3)\n",
    "    def tang(vec): return vec - (vec*n)*n\n",
    "    \n",
    "    a = BilinearForm(fes, symmetric=True)\n",
    "    # small regularization -E*1e-10*u*v to allow for sparsecholesky solver\n",
    "    a += (1/E*InnerProduct((1+nu)*Deviator(sigma)+(1-2*nu)/2*Trace(sigma)*Id(3),tau)\\\n",
    "        + div(sigma)*v + div(tau)*u -E*1e-10*u*v)*dx\n",
    "    a += -(tang(sigma*n)*v + tang(tau*n)*u)*dx(element_boundary=True)\n",
    "\n",
    "    f = LinearForm(fes)\n",
    "    f += -force*v*dx\n",
    "\n",
    "    gfsol = GridFunction(fes)\n",
    "    a.Assemble()\n",
    "    f.Assemble()\n",
    "\n",
    "    gfsol.vec.data = a.mat.Inverse(fes.FreeDofs(), inverse=\"sparsecholesky\")*f.vec\n",
    "    gfu, _ = gfsol.components\n",
    "    return gfu\n",
    "\n",
    "\n",
    "# try out:\n",
    "# order=1; 4x1x4 mesh\n",
    "# order=1; 8x1x8 mesh\n",
    "# order=2; 4x1x4 mesh\n",
    "order = 1\n",
    "\n",
    "mesh = GenerateMesh(4, 1, 4, order)\n",
    "with TaskManager():\n",
    "    gfu = SolveTDNNS(mesh, order)\n",
    "\n",
    "# the BoundaryFromVolumeCF is needed to draw the solution correctly at the boundary\n",
    "# remember that H(curl) has only a well-defined tangential trace\n",
    "Draw(BoundaryFromVolumeCF(gfu), mesh, deformation=True);"
   ]
  },
  {
   "cell_type": "code",
   "execution_count": null,
   "metadata": {},
   "outputs": [],
   "source": []
  }
 ],
 "metadata": {
  "kernelspec": {
   "display_name": "Python 3",
   "language": "python",
   "name": "python3"
  },
  "language_info": {
   "codemirror_mode": {
    "name": "ipython",
    "version": 3
   },
   "file_extension": ".py",
   "mimetype": "text/x-python",
   "name": "python",
   "nbconvert_exporter": "python",
   "pygments_lexer": "ipython3",
   "version": "3.13.1"
  }
 },
 "nbformat": 4,
 "nbformat_minor": 2
}
