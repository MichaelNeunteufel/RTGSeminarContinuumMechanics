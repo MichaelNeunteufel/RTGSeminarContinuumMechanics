{
 "cells": [
  {
   "cell_type": "markdown",
   "metadata": {},
   "source": [
    "# RTG Seminar: Continuum mechanics\n",
    "\n",
    "The following notebooks are supplementary materials for the seminar. The script can be found [here](RTGSeminar_cont_mech_2025_final.pdf)."
   ]
  },
  {
   "cell_type": "markdown",
   "metadata": {},
   "source": [
    "## Elasticity\n",
    "* [Linear elasticity](elasticity/linearelasticity.ipynb)\n",
    "* [Nonlinear elasticity](elasticity/nonlinearelasticity.ipynb)\n",
    "* [Nearly incompressible materials](elasticity/nearlyincompressibleelasticity.ipynb)\n",
    "* [Thin structures](elasticity/thin_structures.ipynb)\n",
    "* [TDNNS method for linear elasticity](elasticity/TDNNS_elasticity.ipynb)\n"
   ]
  },
  {
   "cell_type": "markdown",
   "metadata": {},
   "source": [
    "## Beams\n",
    "* [Euler-Bernoulli beams](beams/euler_bernoulli_beam.ipynb)\n",
    "* [Timoshenko beams](beams/timoshenko_beam_bc.ipynb)\n",
    "* [Shear locking in Timoshenko beams](beams/timoshenko_beam_locking.ipynb)\n",
    "* [Convergence 2D elasticity to beams](beams/convergence_2D_to_beam.ipynb)"
   ]
  },
  {
   "cell_type": "markdown",
   "metadata": {},
   "source": [
    "## Plates\n",
    "* [Reissner-Mindlin plate](plates/Reissner_Mindlin_plate.ipynb)\n",
    "* [Reissner-Mindlin plate boundary layer](plates/Reissner_Mindlin_plate_boundarylayers.ipynb)\n",
    "* [Kirchhoff-Love plate](plates/Kirchhoff_Love_plate.ipynb)\n",
    "* [Ciarlet-Raviart method for Kirchhoff-Love plates](plates/CiarletRaviart.ipynb)"
   ]
  },
  {
   "cell_type": "markdown",
   "metadata": {},
   "source": [
    "## Surfaces and Curvatures\n",
    "* [Surface Poisson equation](curvature/surface_poisson.ipynb)\n",
    "* [Types of surfaces and curvatures](curvature/Curvature_types.ipynb)\n",
    "* [Discrete curvatures](curvature/discrete_extrinsic_curvature.ipynb)"
   ]
  },
  {
   "cell_type": "markdown",
   "metadata": {},
   "source": [
    "## Shells\n",
    "* [Linear Kirchhoff-Love shell](shells/Linear_Koiter_Shell_HHJ.ipynb)\n",
    "* [Regge elements and membrane locking](shells/Regge_elements_membranelocking.ipynb)\n",
    "* [Nonlinear Koiter shell](shells/Koiter_shells_HHJ.ipynb)\n",
    "* [Nonlinear Koiter shell (kink structure)](shells/Koiter_shell_kinks.ipynb)"
   ]
  },
  {
   "cell_type": "markdown",
   "metadata": {},
   "source": []
  }
 ],
 "metadata": {
  "language_info": {
   "name": "python"
  }
 },
 "nbformat": 4,
 "nbformat_minor": 2
}
