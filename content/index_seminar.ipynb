{
 "cells": [
  {
   "cell_type": "markdown",
   "metadata": {},
   "source": [
    "# RTG Seminar: Continuum mechanics\n",
    "\n",
    "The following notebooks are supplementary materials for the seminar."
   ]
  },
  {
   "cell_type": "markdown",
   "metadata": {},
   "source": [
    "## Elasticity\n",
    "* [Linear elasticity](elasticity/linearelasticity.ipynb)\n",
    "* [Nonlinear elasticity](elasticity/nonlinearelasticity.ipynb)\n",
    "* [Nearly incompressible materials](elasticity/nearlyincompressibleelasticity.ipynb)\n",
    "* [Thin structures](elasticity/thin_structures.ipynb)\n",
    "* [TDNNS method for linear elasticity](elasticity/TDNNS_elasticity.ipynb)\n"
   ]
  },
  {
   "cell_type": "markdown",
   "metadata": {},
   "source": [
    "## Beams\n",
    "* [Euler-Bernoulli beams](beams/euler_bernoulli_beam.ipynb)\n",
    "* [Timoshenko beams](beams/timoshenko_beam_bc.ipynb)\n",
    "* [Shear locking in Timoshenko beams](beams/timoshenko_beam_locking.ipynb)\n",
    "* [Convergence 2D elasticity to beams](beams/convergence_2D_to_beam.ipynb)"
   ]
  },
  {
   "cell_type": "markdown",
   "metadata": {},
   "source": [
    "## Plates"
   ]
  },
  {
   "cell_type": "markdown",
   "metadata": {},
   "source": []
  }
 ],
 "metadata": {
  "language_info": {
   "name": "python"
  }
 },
 "nbformat": 4,
 "nbformat_minor": 2
}
